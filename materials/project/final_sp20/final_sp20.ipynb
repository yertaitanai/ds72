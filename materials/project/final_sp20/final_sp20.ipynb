{
 "cells": [
  {
   "cell_type": "code",
   "execution_count": null,
   "metadata": {
    "deletable": false,
    "editable": false
   },
   "outputs": [],
   "source": [
    "# Initialize OK\n",
    "from client.api.notebook import Notebook\n",
    "ok = Notebook('final_sp20.ok')"
   ]
  },
  {
   "cell_type": "code",
   "execution_count": 1,
   "metadata": {},
   "outputs": [],
   "source": [
    "# Run this cell to set up the notebook, but please don't change it.\n",
    "import numpy as np\n",
    "import math\n",
    "from datascience import *\n",
    "\n",
    "# These lines set up the plotting functionality and formatting.\n",
    "import matplotlib\n",
    "matplotlib.use('Agg', warn=False)\n",
    "%matplotlib inline\n",
    "import matplotlib.pyplot as plots\n",
    "plots.style.use('fivethirtyeight')\n",
    "import warnings\n",
    "warnings.simplefilter(action=\"ignore\", category=FutureWarning)\n",
    "\n",
    "# These lines load the tests.\n",
    "from client.api.notebook import Notebook\n",
    "ok = Notebook('final_sp20.ok')\n",
    "_ = ok.auth(inline=True)"
   ]
  },
  {
   "cell_type": "markdown",
   "metadata": {},
   "source": [
    "# Data 8 Final Exam Spring 2020"
   ]
  },
  {
   "cell_type": "markdown",
   "metadata": {},
   "source": [
    "* This exam is worth 150 points. You have until Friday, May 15 at 6PM to complete it. Late submissions will not be accepted.\n",
    "* Do not use features of the Python language that have not been described in this course: we will not accept regrade requests for any issues caused by this.\n",
    "* A few questions are marked *Just for fun*. These questions are optional and will not be graded.\n",
    "* This exam is open notes: you may use any resources including the textbook, lecture, lab, homeworks, and projects, and old Piazza posts.\n",
    "* Piazza will be closed to public posts. For clarifications, typos, and other similar issues with the exam *only*, you may make a private post.\n",
    "* The collaboration policy for this exam is similar to the homeworks:\n",
    "  * You may discuss the questions with other students, but any code, explanations, or text you write in this notebook must be your own.\n",
    "  * You must list the names of any students you discussed the questions with below in Question 0.\n",
    "\n",
    "* Any clarifications to the exam will be made in [this Google doc](https://docs.google.com/document/d/1hWpU4IBBddMM7UsPoZfwKc8Nc61sI1d1L9nt8iSHhLo/edit?usp=sharing). In cases where we make a correction, we'll also make a Piazza announcement that you'll receive in your email. Please check the document and your email before you start or resume working on the exam.\n",
    "* Unless otherwise stated, you may add cells or additional lines of code anywhere you want. Make sure you do *not* delete any existing cells. Also, do not reuse any variable names.\n",
    "* Just like most assignments, unless otherwise stated, the public tests will *not* check for correctness.\n",
    "* When budgeting your time, note that the later questions are longer and more difficult: make sure you leave enough time to attempt the entire exam."
   ]
  },
  {
   "cell_type": "markdown",
   "metadata": {},
   "source": [
    "# Useful functions"
   ]
  },
  {
   "cell_type": "markdown",
   "metadata": {},
   "source": [
    "These are useful functions from lecture and the textbook. They've all been defined correctly. You may use any of them for any question in the exam, \n",
    "\n",
    "**Warning**: Make sure you don't create any variables or functions that have the same names as any of these, or you may not receive credit on parts of the exam."
   ]
  },
  {
   "cell_type": "markdown",
   "metadata": {},
   "source": [
    "### Linear regression"
   ]
  },
  {
   "cell_type": "markdown",
   "metadata": {},
   "source": [
    "These functions are described in lectures 30-34 (Least Squares through Regression Wrapup), and also in Chapter 15 of the textbook."
   ]
  },
  {
   "cell_type": "code",
   "execution_count": 2,
   "metadata": {},
   "outputs": [],
   "source": [
    "def standard_units(arr):\n",
    "    return (arr - np.average(arr))/np.std(arr)\n",
    "\n",
    "def correlation(t, x, y):\n",
    "    x_standard = standard_units(t.column(x))\n",
    "    y_standard = standard_units(t.column(y))\n",
    "    return np.average(x_standard * y_standard)\n",
    "\n",
    "def slope(t, x, y):\n",
    "    r = correlation(t, x, y)\n",
    "    y_sd = np.std(t.column(y))\n",
    "    x_sd = np.std(t.column(x))\n",
    "    return r * y_sd / x_sd\n",
    "\n",
    "def intercept(t, x, y):\n",
    "    x_mean = np.mean(t.column(x))\n",
    "    y_mean = np.mean(t.column(y))\n",
    "    return y_mean - slope(t, x, y)*x_mean\n",
    "\n",
    "def fitted_values(t, x, y):\n",
    "    a = slope(t, x, y)\n",
    "    b = intercept(t, x, y)\n",
    "    return a*t.column(x) + b\n",
    "\n",
    "def fitted_value(t, x, y, new_x):\n",
    "    a = slope(t, x, y)\n",
    "    b = intercept(t, x, y)\n",
    "    return a*new_x + b\n",
    "\n",
    "def residuals(t, x, y):\n",
    "    predictions = fitted_values(t, x, y)\n",
    "    return t.column(y) - predictions"
   ]
  },
  {
   "cell_type": "markdown",
   "metadata": {},
   "source": [
    "# Question 0"
   ]
  },
  {
   "cell_type": "markdown",
   "metadata": {},
   "source": [
    "Please **list the names and email addresses of everyone you collaborated with** when taking this exam. As a reminder, you are allowed to discuss the questions with other students, but you must write all code and fill in all answers by yourself."
   ]
  },
  {
   "cell_type": "markdown",
   "metadata": {},
   "source": [
    "*Write your answer here, replacing this text.*"
   ]
  },
  {
   "cell_type": "markdown",
   "metadata": {},
   "source": [
    "# Question 1"
   ]
  },
  {
   "cell_type": "markdown",
   "metadata": {},
   "source": [
    "For each of the following cells, assign the specified variable so that the output of the entire cell is as specified. You may only change the first line of each cell: **don't change anything else**.\n",
    "\n",
    "For example, if the cell said to assign the variable `x` to produce the output 10, and it looked like this:\n",
    "```\n",
    "x = ...\n",
    "x + 7\n",
    "```\n",
    "then the correct answer would be to assign `x = 3`, so that the output of the last line would be 10."
   ]
  },
  {
   "cell_type": "markdown",
   "metadata": {
    "deletable": false,
    "editable": false
   },
   "source": [
    "#### Question 1.1\n",
    "(2 points) Assign the variable `a` so that the output of `a + b` is an array of two integers, whose first element is 2020 and whose second element is 8.\n",
    "<!--\n",
    "BEGIN QUESTION\n",
    "name: q1_1\n",
    "manual: false\n",
    "-->"
   ]
  },
  {
   "cell_type": "code",
   "execution_count": 3,
   "metadata": {},
   "outputs": [],
   "source": [
    "a = ...\n",
    "# Do not change anything below this line.\n",
    "b = make_array(2017, 0)\n",
    "a + b"
   ]
  },
  {
   "cell_type": "code",
   "execution_count": null,
   "metadata": {
    "deletable": false,
    "editable": false
   },
   "outputs": [],
   "source": [
    "ok.grade(\"q1_1\");"
   ]
  },
  {
   "cell_type": "markdown",
   "metadata": {
    "deletable": false,
    "editable": false
   },
   "source": [
    "#### Question 1.2\n",
    "\n",
    "(2 points) Assign the variable `a2` so that the output of running the below cell is an array of integers whose first element is 2020 and whose second element is 8.\n",
    "<!--\n",
    "BEGIN QUESTION\n",
    "name: q1_2\n",
    "manual: false\n",
    "-->"
   ]
  },
  {
   "cell_type": "code",
   "execution_count": 6,
   "metadata": {},
   "outputs": [],
   "source": [
    "a2 = ...\n",
    "# Do not change anything below this line.\n",
    "t = Table().with_columns(\n",
    "    'year', np.arange(2000, 2030, 10),\n",
    "    'course', make_array(8, 100, 102),\n",
    ")\n",
    "first_col_index = a2.item(0)\n",
    "second_col_index = a2.item(1)\n",
    "year = t.column('year').item(first_col_index)\n",
    "course = t.column('course').item(second_col_index)\n",
    "make_array(year, course)"
   ]
  },
  {
   "cell_type": "code",
   "execution_count": null,
   "metadata": {
    "deletable": false,
    "editable": false
   },
   "outputs": [],
   "source": [
    "ok.grade(\"q1_2\");"
   ]
  },
  {
   "cell_type": "markdown",
   "metadata": {},
   "source": [
    "# Question 2: Books and Graphs"
   ]
  },
  {
   "cell_type": "markdown",
   "metadata": {},
   "source": [
    "Zeynep goes through her family's entire collection of 370 books and records data for each one. She records her data in a table called `books`. The lengths of the books (in pages) are in a column labeled `Length`. \n",
    "\n",
    "For this question, you won't be able to use the table `books`: you must answer based only on the information provided.\n",
    "\n",
    "She notices that all of the books are between 50 and 400 pages, and uses the following line of code to generate a histogram showing the lengths:\n",
    "\n",
    "```\n",
    "books.hist('Length', unit='page', bins=np.arange(50, 400, 25))\n",
    "```"
   ]
  },
  {
   "attachments": {
    "image.png": {
     "image/png": "[encoded data removed]"
    }
   },
   "cell_type": "markdown",
   "metadata": {},
   "source": [
    "![image.png](attachment:image.png)"
   ]
  },
  {
   "cell_type": "markdown",
   "metadata": {
    "deletable": false,
    "editable": false
   },
   "source": [
    "#### Question 2.1\n",
    "\n",
    "(3 points) What proportion of books are between 200 and 224 pages long (inclusive)? Assign the variable `q21_proportion_books_200_224` to your answer.\n",
    "\n",
    "Your answer should be a number between 0 and 1, and should be correct to within .01.\n",
    "<!--\n",
    "BEGIN QUESTION\n",
    "name: q2_1\n",
    "manual: false\n",
    "-->"
   ]
  },
  {
   "cell_type": "code",
   "execution_count": 9,
   "metadata": {},
   "outputs": [],
   "source": [
    "q21_proportion_books_200_224 = ..."
   ]
  },
  {
   "cell_type": "code",
   "execution_count": null,
   "metadata": {
    "deletable": false,
    "editable": false
   },
   "outputs": [],
   "source": [
    "ok.grade(\"q2_1\");"
   ]
  },
  {
   "cell_type": "markdown",
   "metadata": {
    "deletable": false,
    "editable": false
   },
   "source": [
    "#### Question 2.2\n",
    "\n",
    "(4 points) Based on the histogram and the information above, which must be true? Assign `book_interpretation_choices` to an array of your numbered answer(s).\n",
    "\n",
    "1. There are more long books (200 pages and over) than short books (under 200 pages) in her family's collection.\n",
    "2. The percentage of books between 125 and 149 pages (inclusive) is about 20% (that is, 19-21%).\n",
    "3. The books in her family's collection are like a random sample from the population of all books.\n",
    "4. In her family's collection, nonfiction books are longer on average than fiction books.\n",
    "5. The mean length is less than the median length.\n",
    "\n",
    "<!--\n",
    "BEGIN QUESTION\n",
    "name: q2_2\n",
    "manual: true\n",
    "-->\n",
    "<!-- EXPORT TO PDF -->"
   ]
  },
  {
   "cell_type": "code",
   "execution_count": 13,
   "metadata": {
    "export_pdf": true
   },
   "outputs": [],
   "source": [
    "book_interpretation_choices = ..."
   ]
  },
  {
   "cell_type": "markdown",
   "metadata": {
    "deletable": false,
    "editable": false
   },
   "source": [
    "#### Question 2.3\n",
    "\n",
    "(2 points) Which of the following is closest to the median length? Assign the variable `median_length_choice` to either 1, 2, or 3 depending on your choice.\n",
    "\n",
    "1. 200\n",
    "2. 260\n",
    "3. 315\n",
    "\n",
    "<!--\n",
    "BEGIN QUESTION\n",
    "name: q2_3\n",
    "manual: false\n",
    "-->"
   ]
  },
  {
   "cell_type": "code",
   "execution_count": 14,
   "metadata": {},
   "outputs": [],
   "source": [
    "median_length_choice = ..."
   ]
  },
  {
   "cell_type": "code",
   "execution_count": null,
   "metadata": {
    "deletable": false,
    "editable": false
   },
   "outputs": [],
   "source": [
    "ok.grade(\"q2_3\");"
   ]
  },
  {
   "cell_type": "markdown",
   "metadata": {},
   "source": [
    "Zeynep finds review data for each book online, and adds it to her `books` table in a column called `Rating`. The values in this column are floating point numbers between 1 and 5, indicating the number of \"stars\" the book got, on average.\n",
    "\n",
    "She computes the following quantities, which are reproduced for you in the cell below. Remember, you can't use the `books` table, only the quantities defined for you."
   ]
  },
  {
   "attachments": {
    "image.png": {
     "image/png": "[encoded data removed]"
    }
   },
   "cell_type": "markdown",
   "metadata": {},
   "source": [
    "![image.png](attachment:image.png)"
   ]
  },
  {
   "cell_type": "code",
   "execution_count": 18,
   "metadata": {},
   "outputs": [],
   "source": [
    "r = 0.596\n",
    "length_mean = 237.605\n",
    "length_sd = 61.7\n",
    "rating_mean = 2.675\n",
    "rating_sd = 0.323"
   ]
  },
  {
   "cell_type": "markdown",
   "metadata": {
    "deletable": false,
    "editable": false
   },
   "source": [
    "#### Question 2.4\n",
    "\n",
    "(2 points) Using linear regression, what would she predict for the average rating (in stars) of a book with 300 pages? Assign the variable `book_with_300_pages_avg_rating` to your answer.\n",
    "\n",
    "*Hint*: try to avoid names like `correlation`, `slope`, `intercept` for your variables, since those are the names of functions we've defined for you at the top of the notebook.\n",
    "<!--\n",
    "BEGIN QUESTION\n",
    "name: q2_4\n",
    "manual: false\n",
    "-->"
   ]
  },
  {
   "cell_type": "code",
   "execution_count": 19,
   "metadata": {},
   "outputs": [],
   "source": [
    "book_with_300_pages_avg_rating = ...\n",
    "book_with_300_pages_avg_rating"
   ]
  },
  {
   "cell_type": "code",
   "execution_count": null,
   "metadata": {
    "deletable": false,
    "editable": false
   },
   "outputs": [],
   "source": [
    "ok.grade(\"q2_4\");"
   ]
  },
  {
   "cell_type": "markdown",
   "metadata": {
    "deletable": false,
    "editable": false
   },
   "source": [
    "#### Question 2.5\n",
    "\n",
    "(2 points) Using linear regression, what would she predict for the length of a book (in pages) with an average rating of 4 stars? Assign the variable `book_with_4_stars_length` to your answer.\n",
    "\n",
    "*Hint*: try to avoid names like `correlation`, `slope`, `intercept` for your variables, since those are the names of functions we've defined for you at the top of the notebook.\n",
    "\n",
    "<!--\n",
    "BEGIN QUESTION\n",
    "name: q2_5\n",
    "manual: false\n",
    "-->"
   ]
  },
  {
   "cell_type": "code",
   "execution_count": 22,
   "metadata": {},
   "outputs": [],
   "source": [
    "book_with_4_stars_length = ...\n",
    "book_with_4_stars_length"
   ]
  },
  {
   "cell_type": "code",
   "execution_count": null,
   "metadata": {
    "deletable": false,
    "editable": false
   },
   "outputs": [],
   "source": [
    "ok.grade(\"q2_5\");"
   ]
  },
  {
   "cell_type": "markdown",
   "metadata": {
    "deletable": false,
    "editable": false
   },
   "source": [
    "#### Question 2.6\n",
    "\n",
    "(2 points) Fill in the blank with the smallest possible value that's guaranteed to be correct. Assign the variable `book_rating_blank` to your answer.\n",
    "\n",
    "Without knowing anything else about the distribution of ratings, we can guarantee that 75% of the ratings will be between 2.029 stars and \\_\\_\\_ stars.\n",
    "\n",
    "<!--\n",
    "BEGIN QUESTION\n",
    "name: q2_6\n",
    "manual: false\n",
    "-->"
   ]
  },
  {
   "cell_type": "code",
   "execution_count": 25,
   "metadata": {},
   "outputs": [],
   "source": [
    "book_rating_blank = ...\n",
    "book_rating_blank"
   ]
  },
  {
   "cell_type": "code",
   "execution_count": null,
   "metadata": {
    "deletable": false,
    "editable": false
   },
   "outputs": [],
   "source": [
    "ok.grade(\"q2_6\");"
   ]
  },
  {
   "cell_type": "markdown",
   "metadata": {
    "deletable": false,
    "editable": false
   },
   "source": [
    "#### Question 2.7\n",
    "\n",
    "(4 points) Fill in the blank with the smallest value that's guaranteed to be correct. Assign the variable `range_of_accurate_book_predictions` to your answer.\n",
    "\n",
    "When predicting average rating from book length, at least 93.75% of the predictions will be correct to within ___ stars of the true value.\n",
    "\n",
    "*Hint*: $93.75\\%$ is the same as $1 - \\frac{1}{16}$.\n",
    "\n",
    "<!--\n",
    "BEGIN QUESTION\n",
    "name: q2_7\n",
    "manual: false\n",
    "-->"
   ]
  },
  {
   "cell_type": "code",
   "execution_count": 28,
   "metadata": {},
   "outputs": [],
   "source": [
    "range_of_accurate_book_predictions = ...\n",
    "range_of_accurate_book_predictions"
   ]
  },
  {
   "cell_type": "code",
   "execution_count": null,
   "metadata": {
    "deletable": false,
    "editable": false
   },
   "outputs": [],
   "source": [
    "ok.grade(\"q2_7\");"
   ]
  },
  {
   "attachments": {
    "image.png": {
     "image/png": "[encoded data removed]"
    }
   },
   "cell_type": "markdown",
   "metadata": {
    "deletable": false,
    "editable": false
   },
   "source": [
    "#### Question 2.8\n",
    "\n",
    "(3 points) Zeynep uses her data to conduct a hypothesis test, but refuses to tell you any of the details. All she tells you is:\n",
    "* Larger values of the test statistic favor the alternative hypothesis.\n",
    "* Her $p$-value cutoff is 0.05.\n",
    "* Her histogram of 5,000 simulated values of her test statistic under the null hypothesis looks like this (assume all values are shown in the histogram):\n",
    "\n",
    "![image.png](attachment:image.png)\n",
    "\n",
    "Based only on this information, which of the following must be true? Assign `mystery_hypothesis_test_conclusions` to an array with your numbered answer(s).\n",
    "\n",
    "1. If the test statistic in her data is 310, then the data are more consistent with the alternative hypothesis than the null hypothesis.\n",
    "2. If the test statistic in her data is 270, then we should conclude the data are more consistent with the null hypothesis than the alternative hypothesis.\n",
    "3. If this was an A/B test where the test statistic was the difference in the means of two groups, and the test statistic in her data is 312, then she can conclude that there's a causal link between the groups and the value she's measuring for her test statistic.\n",
    "\n",
    "<!--\n",
    "BEGIN QUESTION\n",
    "name: q2_8\n",
    "manual: true\n",
    "-->\n",
    "<!-- EXPORT TO PDF -->"
   ]
  },
  {
   "cell_type": "code",
   "execution_count": 31,
   "metadata": {
    "export_pdf": true
   },
   "outputs": [],
   "source": [
    "mystery_hypothesis_test_conclusions = ..."
   ]
  },
  {
   "cell_type": "markdown",
   "metadata": {},
   "source": [
    "# Question 3: Gardening"
   ]
  },
  {
   "cell_type": "markdown",
   "metadata": {},
   "source": [
    "Silla wants to get better at keeping his plants alive. So, he decides to try using a classifier to predict whether the plants into his garden will survive. He spends 8 weeks, from March 17 until May 12, collecting data for each plant on:\n",
    "\n",
    "* **`Water`**: a float, the average amount of water he gave it per week (in ounces),\n",
    "* **`Pot Size`**: a float, the size of the pot the plant was in (in gallons)\n",
    "* **`Survived`**: a boolean, whether or not the plant was alive on May 12\n",
    "\n",
    "He trains a $k$-nearest neighbor classifier on his data, and uses $k=3$.\n",
    "\n",
    "He also draws the following scatterplot, marking plants that survived with blue circles and plants that died with red squares. Assume all his plants are shown here:"
   ]
  },
  {
   "attachments": {
    "image.png": {
     "image/png": "[encoded data removed]"
    }
   },
   "cell_type": "markdown",
   "metadata": {},
   "source": [
    "![image.png](attachment:image.png)"
   ]
  },
  {
   "cell_type": "markdown",
   "metadata": {},
   "source": [
    "Silla wants to use the classifier to make a predictions. For each of the following questions, you should answer one of:\n",
    "* `True`, if the prediction is that the plant would survive\n",
    "* `False`, if the prediction is that the plant would die,\n",
    "* A string with an explanation if it isn't appropriate to use his classifier to answer the question.\n",
    "\n",
    "If you answer `True` or `False`, then you should *not* include any explanation: it will not be graded.\n",
    "\n",
    "For example, if a question asked \"How tall will his tallest plant be?\", then your answer should be `\"The classifier can't predict how tall plants are, only whether or not they survive\"`."
   ]
  },
  {
   "cell_type": "markdown",
   "metadata": {
    "deletable": false,
    "editable": false
   },
   "source": [
    "#### Question 3.1\n",
    "\n",
    "(3 points) Suppose Silla had planted an extra plant in a 0.25-gallon pot that received 3.5 ounces of water per week. Would the classifier predict that this plant will survive? \n",
    "\n",
    "<!--\n",
    "BEGIN QUESTION\n",
    "name: q3_1\n",
    "manual: true\n",
    "-->\n",
    "<!-- EXPORT TO PDF -->"
   ]
  },
  {
   "cell_type": "markdown",
   "metadata": {
    "export_pdf": true
   },
   "source": [
    "*Write your answer here, replacing this text.*"
   ]
  },
  {
   "cell_type": "markdown",
   "metadata": {
    "deletable": false,
    "editable": false
   },
   "source": [
    "#### Question 3.2\n",
    "\n",
    "(3 points) Silla was taking care of his roommate's plant (which isn't shown in the graph above). It was in a 2.5-gallon pot, and he gave it 5 ounces of water per week. Would the classifier predict that this plant will survive? \n",
    "\n",
    "<!--\n",
    "BEGIN QUESTION\n",
    "name: q3_2\n",
    "manual: true\n",
    "-->\n",
    "<!-- EXPORT TO PDF -->"
   ]
  },
  {
   "cell_type": "markdown",
   "metadata": {
    "export_pdf": true
   },
   "source": [
    "*Write your answer here, replacing this text.*"
   ]
  },
  {
   "cell_type": "markdown",
   "metadata": {
    "deletable": false,
    "editable": false
   },
   "source": [
    "#### Question 3.3\n",
    "\n",
    "(3 points) Silla was taking care of his other roommate's plant (which also isn't shown in the graph above). It was in a 6-gallon pot, and he gave it 6 ounces of water per week. Would the classifier predict that this plant will survive? \n",
    "\n",
    "<!--\n",
    "BEGIN QUESTION\n",
    "name: q3_3\n",
    "manual: true\n",
    "-->\n",
    "<!-- EXPORT TO PDF -->"
   ]
  },
  {
   "cell_type": "markdown",
   "metadata": {
    "export_pdf": true
   },
   "source": [
    "*Write your answer here, replacing this text.*"
   ]
  },
  {
   "cell_type": "markdown",
   "metadata": {
    "deletable": false,
    "editable": false
   },
   "source": [
    "#### Question 3.4\n",
    "\n",
    "(3 points) Silla graduates and moves from Berkeley to Miami, Florida. After moving in to his new apartment, he buys some new plants. He puts one in a 1-gallon pot, and gives it 2 ounces of water per week for 8 weeks (from June 1 to July 27). Would the classifier predict that this plant will survive? \n",
    "\n",
    "<!--\n",
    "BEGIN QUESTION\n",
    "name: q3_4\n",
    "manual: true\n",
    "-->\n",
    "<!-- EXPORT TO PDF -->"
   ]
  },
  {
   "cell_type": "markdown",
   "metadata": {
    "export_pdf": true
   },
   "source": [
    "*Write your answer here, replacing this text.*"
   ]
  },
  {
   "cell_type": "markdown",
   "metadata": {},
   "source": [
    "# Question 4: Electricity"
   ]
  },
  {
   "cell_type": "markdown",
   "metadata": {},
   "source": [
    "The table `electricity` contains data for 200 randomly sampled energy utilities from the US in 2017."
   ]
  },
  {
   "cell_type": "code",
   "execution_count": 32,
   "metadata": {},
   "outputs": [],
   "source": [
    "electricity = Table.read_table('electricity2017_sample.csv').drop('Power in')\n",
    "electricity.show(3)"
   ]
  },
  {
   "cell_type": "markdown",
   "metadata": {},
   "source": [
    "It has the following columns:\n",
    "* **`Name`**: a string, the name of the utility\n",
    "* **`State`**: a string, the two-letter abbreviation for the state the utility operates in\n",
    "* **`Type`**: a string, the type of utility \n",
    "* **`Residential customers`**: an int, the number of residential customers the utility serves\n",
    "* **`Revenue`**: a float, the total revenue for the utility in 2017 measured in thousands of dollars\n",
    "* **`Power generated`**: a float, the amount of power the utility generated itself (in megawatt-hours)\n",
    "* **`Power bought`**: a float, the amount of power the utility bought or exchanged from other utilities (in megawatt-hours)\n",
    "* **`Summer demand`**: a float, representing peak demand in the summer (in megawatts)\n",
    "* **`Winter demand`**: a float, representing peak demand in the winter (in megawatts)"
   ]
  },
  {
   "cell_type": "markdown",
   "metadata": {
    "deletable": false,
    "editable": false
   },
   "source": [
    "#### Question 4.1\n",
    "\n",
    "(3 points) Janea wants to use this random sample to understand energy utilities more broadly. In particular, she wants to estimate the following quantities from this particular sample:\n",
    "\n",
    "1. The maximum number of residential customers served by any energy utility in the US\n",
    "2. The average (mean) demand in the summer across all energy utilities in the US\n",
    "3. The median revenue of all energy utilities in Hawaii (*Hint*: the two-letter abbreviation for Hawaii is HI).\n",
    "4. The slope of a linear prediction of winter demand from summer demand, across all energy utilities in the US\n",
    "\n",
    "If she decides to use the bootstrap to construct a 95% confidence interval from this sample, which of the quantities above are good choices for this technique? Assign `good_electricity_bootstrap_candidates` to an array of your numbered answer(s).\n",
    "\n",
    "\n",
    "\n",
    "<!--\n",
    "BEGIN QUESTION\n",
    "name: q4_1\n",
    "manual: true\n",
    "-->\n",
    "<!-- EXPORT TO PDF -->"
   ]
  },
  {
   "cell_type": "code",
   "execution_count": 33,
   "metadata": {
    "export_pdf": true
   },
   "outputs": [],
   "source": [
    "good_electricity_bootstrap_candidates = ..."
   ]
  },
  {
   "cell_type": "markdown",
   "metadata": {
    "deletable": false,
    "editable": false
   },
   "source": [
    "#### Question 4.2\n",
    "\n",
    "(2 points) Javier is on the board of a US energy utility, and wants to predict what his revenue will be based on summer demand. He isn't sure whether linear regression is a good fit: create a plot to help convince him that it is.\n",
    "\n",
    "*Hint*: you shouldn't need more than 3-4 lines to solve this, and our solution took fewer than that.\n",
    "\n",
    "<!--\n",
    "BEGIN QUESTION\n",
    "name: q4_2\n",
    "manual: true\n",
    "-->\n",
    "<!-- EXPORT TO PDF -->"
   ]
  },
  {
   "cell_type": "code",
   "execution_count": 34,
   "metadata": {
    "export_pdf": true
   },
   "outputs": [],
   "source": [
    "# Code to create a plot goes here.\n",
    "..."
   ]
  },
  {
   "cell_type": "markdown",
   "metadata": {
    "deletable": false,
    "editable": false
   },
   "source": [
    "#### Question 4.3\n",
    "\n",
    "(5 points) Javier's utility had 90 megawatts of demand this summer. He uses the bootstrap to construct a 95% confidence interval for the prediction of its revenue based on linear regression, and finds that the interval is \\\\$40.6 to \\\\$45 million dollars (remember, the `Revenue` column is in thousands of dollars).\n",
    "\n",
    "Which of the following must be true? Assign `revenue_demand_prediction_choices` to an array of your numbered answer(s).\n",
    "\n",
    "1. 95% of utilities in the sample had revenue between \\\\$40.6 and \\\\$45.0 million dollars.\n",
    "2. In 95% of Javier's bootstrap samples, the height of the regression line at $x=90$ was between 40600 and 45000 (that is, \\\\$40.6 and \\\\$45 million dollars).\n",
    "3. In the population of all US energy utilities, 95% of the utilities with 90 megawatts of summer demand have between \\\\$40.6 and \\\\$45 million dollars of revenue.\n",
    "4. There is a 95% chance that Javier's utility's revenue this year will be between \\\\$40.6 and \\\\$45 million dollars.\n",
    "5. When drawing a random sample of 200 US energy utilities from the population of all US energy utilities, there is a 95% chance that in the sample, the linear regression prediction for utilities with 90 megawatts of summer demand will be between \\\\$40.6 and \\\\$45 million dollars.\n",
    "\n",
    "<!--\n",
    "BEGIN QUESTION\n",
    "name: q4_3\n",
    "manual: true\n",
    "-->\n",
    "<!-- EXPORT TO PDF -->"
   ]
  },
  {
   "cell_type": "code",
   "execution_count": 35,
   "metadata": {
    "export_pdf": true
   },
   "outputs": [],
   "source": [
    "revenue_demand_prediction_choices = ..."
   ]
  },
  {
   "cell_type": "markdown",
   "metadata": {
    "deletable": false,
    "editable": false
   },
   "source": [
    "#### Question 4.4\n",
    "\n",
    "(4 points) Javier wants to estimate the difference between the average size (number of customers) of municipal utilities (owned by local governments) and cooperative utilities (owned by customers). In other words, he wants to compute the municipal average number of customers minus the cooperative average number of customers. \n",
    "\n",
    "Help him by completing the function below.\n",
    "\n",
    "For this question, the public tests check for correctness.\n",
    "\n",
    "<!--\n",
    "BEGIN QUESTION\n",
    "name: q4_4\n",
    "manual: false\n",
    "-->"
   ]
  },
  {
   "cell_type": "code",
   "execution_count": 36,
   "metadata": {},
   "outputs": [],
   "source": [
    "def compute_municipal_cooperative_difference(tbl):\n",
    "    \"\"\" \n",
    "    Given a table with columns 'Type' and 'Residential customers', \n",
    "    returns the difference between  the average size of municipal utilities\n",
    "    and cooperative utilities.\n",
    "    \"\"\"\n",
    "    ..."
   ]
  },
  {
   "cell_type": "code",
   "execution_count": null,
   "metadata": {
    "deletable": false,
    "editable": false
   },
   "outputs": [],
   "source": [
    "ok.grade(\"q4_4\");"
   ]
  },
  {
   "cell_type": "markdown",
   "metadata": {
    "deletable": false,
    "editable": false
   },
   "source": [
    "#### Question 4.5\n",
    "\n",
    "(4 points) Javier wonders: if his sample had been different, could he have gotten a different answer? Complete the function below, which computes 1,000 bootstrap samples of the statistic from the previous part and saves them in the array `bootstrap_utility_diff` which is returned.\n",
    "\n",
    "<!--\n",
    "BEGIN QUESTION\n",
    "name: q4_5\n",
    "manual: false\n",
    "-->"
   ]
  },
  {
   "cell_type": "code",
   "execution_count": 39,
   "metadata": {},
   "outputs": [],
   "source": [
    "def bootstrap_u_d():\n",
    "    bootstrap_utility_diff = ...\n",
    "    ...\n",
    "        resample = ...\n",
    "        bootstrap_utility_diff = ...\n",
    "    return bootstrap_utility_diff\n",
    "\n",
    "# Don't edit this code below\n",
    "bootstrap_utility_differences = bootstrap_u_d()"
   ]
  },
  {
   "cell_type": "code",
   "execution_count": null,
   "metadata": {
    "deletable": false,
    "editable": false
   },
   "outputs": [],
   "source": [
    "ok.grade(\"q4_5\");"
   ]
  },
  {
   "cell_type": "markdown",
   "metadata": {
    "deletable": false,
    "editable": false
   },
   "source": [
    "#### Question 4.6\n",
    "\n",
    "(3 points) Javier's favorite number is 92, so he wants to make a 92% confidence interval to estimate the value of the statistic above in the population. Use the `bootstrap_utility_differences` to assign `bootstrap_utility_left` and `bootstrap_utility_right`:\n",
    "\n",
    "<!--\n",
    "BEGIN QUESTION\n",
    "name: q4_6\n",
    "manual: false\n",
    "-->"
   ]
  },
  {
   "cell_type": "code",
   "execution_count": 42,
   "metadata": {},
   "outputs": [],
   "source": [
    "bootstrap_utility_left = ...\n",
    "bootstrap_utility_right = ...\n",
    "(bootstrap_utility_left, bootstrap_utility_right)"
   ]
  },
  {
   "cell_type": "code",
   "execution_count": null,
   "metadata": {
    "deletable": false,
    "editable": false
   },
   "outputs": [],
   "source": [
    "ok.grade(\"q4_6\");"
   ]
  },
  {
   "cell_type": "markdown",
   "metadata": {},
   "source": [
    "# Question 5: The Office"
   ]
  },
  {
   "cell_type": "markdown",
   "metadata": {},
   "source": [
    "The Data 8 instructors start arguing over one of their favorite TV shows, and decide to resolve their debates using data. They find data on how many words each character speaks in each episode of the show The Office in the table `office`. "
   ]
  },
  {
   "cell_type": "code",
   "execution_count": 46,
   "metadata": {},
   "outputs": [],
   "source": [
    "office = Table.read_table('the_office.csv')\n",
    "office.show(3)"
   ]
  },
  {
   "cell_type": "markdown",
   "metadata": {},
   "source": [
    "The table contains the following columns:\n",
    "* **`season`**: an int, indicating which season of the show\n",
    "* **`episode`**: an int, indicating which episode within that season the data is for\n",
    "* **`overall_episode`**: an int, indicating the episode number within the entire show (for example, since the first season has 6 episodes, the first episode of the second season is the seventh episode overall)\n",
    "* **`speaker`**: a string, the name of the character (or the string `TOTAL`, indicating the row contains the total number of words for the episode)\n",
    "* **`num_words`**: an int, the number of words that character spoke in that episode\n",
    "\n",
    "For example, the second row indicates that the character Michael said 1598 words in the first episode of the first season."
   ]
  },
  {
   "cell_type": "markdown",
   "metadata": {},
   "source": [
    "(4 points) In order to make line and scatter graphs of how much the characters speak over the course of the show, we'll need to write a function that takes an array of character names and returns a table with one row per overall episode number. It should have one column for the episode numbers, and a column for each character in the array, where the values are the total number of words spoken by that character in that episode. \n",
    "\n",
    "For example, calling `get_character_episode_table(make_array('Jim', 'Dwight', 'Pam'))` should give you a table whose first few rows look like:"
   ]
  },
  {
   "attachments": {
    "image.png": {
     "image/png": "[encoded data removed]"
    }
   },
   "cell_type": "markdown",
   "metadata": {},
   "source": [
    "![image.png](attachment:image.png)"
   ]
  },
  {
   "cell_type": "markdown",
   "metadata": {
    "deletable": false,
    "editable": false
   },
   "source": [
    "#### Question 5.1\n",
    "\n",
    "This means that Dwight spoke 296 words in the first episode, and Jim and Pam spoke 335 and 295 respectively.\n",
    "\n",
    "(*Hint*: the predicate `are.contained_in` might be helpful.)\n",
    "\n",
    "<!--\n",
    "BEGIN QUESTION\n",
    "name: q5_1\n",
    "manual: false\n",
    "-->"
   ]
  },
  {
   "cell_type": "code",
   "execution_count": 47,
   "metadata": {},
   "outputs": [],
   "source": [
    "def get_character_episode_table(character_names):\n",
    "    \"\"\"\n",
    "    Takes an array of character names, and returns a table like the one shown above.\n",
    "    \"\"\"\n",
    "    ..."
   ]
  },
  {
   "cell_type": "code",
   "execution_count": null,
   "metadata": {
    "deletable": false,
    "editable": false
   },
   "outputs": [],
   "source": [
    "ok.grade(\"q5_1\");"
   ]
  },
  {
   "cell_type": "markdown",
   "metadata": {},
   "source": [
    "*Just for fun*: Use the function you just wrote to visualize the relationships between how much characters speak, and how that changes over the course of the show.\n"
   ]
  },
  {
   "cell_type": "code",
   "execution_count": 50,
   "metadata": {},
   "outputs": [],
   "source": [
    "# This cell is for answering the \"Just for fun\" question above. Nothing in it will be graded.\n"
   ]
  },
  {
   "cell_type": "markdown",
   "metadata": {},
   "source": [
    "Ramesh and Swupnil start arguing over Season 8's popularity, and find the following data to help support their claims: "
   ]
  },
  {
   "cell_type": "code",
   "execution_count": 51,
   "metadata": {},
   "outputs": [],
   "source": [
    "office_viewers = Table.read_table('office_wikipedia.csv')\n",
    "office_viewers.show(3)"
   ]
  },
  {
   "cell_type": "markdown",
   "metadata": {},
   "source": [
    "The table has the following columns:\n",
    "* **`Overall number`**: an int, indicating the episode number within the entire show (for example, since the first season has 6 episodes, the first episode of the second season is the seventh episode overall)\n",
    "* **`Name`**: a string, the episode name\n",
    "* **`Writer`**: a string, the person or people who wrote the script for that episode\n",
    "* **`Millions of viewers`**: a float, the number of viewers, in millions, who watched that episode when it aired on live TV (on NBC)."
   ]
  },
  {
   "cell_type": "markdown",
   "metadata": {},
   "source": [
    "*Just for fun*: Which episode had the most viewers and why?"
   ]
  },
  {
   "cell_type": "code",
   "execution_count": 52,
   "metadata": {},
   "outputs": [],
   "source": [
    "# This cell is for answering the \"Just for fun\" question above. Nothing in it will be graded.\n"
   ]
  },
  {
   "cell_type": "markdown",
   "metadata": {
    "deletable": false,
    "editable": false
   },
   "source": [
    "#### Question 5.2\n",
    "\n",
    "(3 points) Using the two tables above (`office_viewers` and `office`), make a new table that has one row for each episode of the show, and three columns: **`season`**, **`overall_episode`**, and **`Millions of viewers`**. The columns may be in any order, but they must contain the correct values as described by their names.\n",
    "\n",
    "<!--\n",
    "BEGIN QUESTION\n",
    "name: q5_2\n",
    "manual: false\n",
    "-->"
   ]
  },
  {
   "cell_type": "code",
   "execution_count": 53,
   "metadata": {},
   "outputs": [],
   "source": [
    "# The overall_and_season table was helpful in our solution,\n",
    "# but you don't have to use it.\n",
    "overall_and_season = office.group(['overall_episode', 'season']).select(0, 1)\n",
    "office_season_viewers = ...\n",
    "office_season_viewers.show(3)"
   ]
  },
  {
   "cell_type": "code",
   "execution_count": null,
   "metadata": {
    "deletable": false,
    "editable": false
   },
   "outputs": [],
   "source": [
    "ok.grade(\"q5_2\");"
   ]
  },
  {
   "cell_type": "markdown",
   "metadata": {
    "deletable": false,
    "editable": false
   },
   "source": [
    "#### Question 5.3\n",
    "\n",
    "(2 points) Ramesh thinks that Season 8 is significantly less popular (measured by number of viewers) than any other season of the show. Swupnil disagrees. They decide on the following null and alternative hypotheses for their test:\n",
    "\n",
    "**Null hypothesis**:\n",
    "\n",
    "The average viewer count for Season 8 is like the average viewer count for the same number of episodes picked at random from the entire show.\n",
    "\n",
    "**Alternative hypothesis**:\n",
    "\n",
    "No, the average viewer count for Season 8 is lower.\n",
    "\n",
    "Which hypothesis supports Swupnil's argument? Assign the variable `season_8_swupnil` to either `'null'` or `'alternative'`:\n",
    "\n",
    "<!--\n",
    "BEGIN QUESTION\n",
    "name: q5_3\n",
    "manual: false\n",
    "-->"
   ]
  },
  {
   "cell_type": "code",
   "execution_count": 57,
   "metadata": {},
   "outputs": [],
   "source": [
    "season_8_swupnil = ..."
   ]
  },
  {
   "cell_type": "code",
   "execution_count": null,
   "metadata": {
    "deletable": false,
    "editable": false
   },
   "outputs": [],
   "source": [
    "ok.grade(\"q5_3\");"
   ]
  },
  {
   "cell_type": "markdown",
   "metadata": {
    "deletable": false,
    "editable": false
   },
   "source": [
    "#### Question 5.4\n",
    "\n",
    "(3 points) Based on the null and alternative hypothesis above, describe a test statistic they could use to conduct a hypothesis test:\n",
    "\n",
    "<!--\n",
    "BEGIN QUESTION\n",
    "name: q5_4\n",
    "manual: true\n",
    "-->\n",
    "<!-- EXPORT TO PDF -->"
   ]
  },
  {
   "cell_type": "markdown",
   "metadata": {
    "export_pdf": true
   },
   "source": [
    "*Write your answer here, replacing this text.*"
   ]
  },
  {
   "cell_type": "markdown",
   "metadata": {
    "deletable": false,
    "editable": false
   },
   "source": [
    "#### Question 5.5\n",
    "\n",
    "(3 points) They decide on a $p$-value cutoff of $0.01$, and carry out the test using a correct test statistic.\n",
    "\n",
    "They obtain a $p$-value of 0. Based only on the information provided to you, which must be true? Assign `season_8_test_conclusions` to an array with your numbered answer(s).\n",
    "\n",
    "1. If the null hypothesis were true, the probability of observing a result that supports the alternative hypothesis is $0.01$.\n",
    "2. If the alternative hypothesis were true, the probability of observing their test statistic is 1.\n",
    "3. The data support the alternative hypothesis.\n",
    "4. The data support the null hypothesis.\n",
    "\n",
    "<!--\n",
    "BEGIN QUESTION\n",
    "name: q5_5\n",
    "manual: true\n",
    "-->\n",
    "<!-- EXPORT TO PDF -->"
   ]
  },
  {
   "cell_type": "code",
   "execution_count": 61,
   "metadata": {
    "export_pdf": true
   },
   "outputs": [],
   "source": [
    "season_8_test_conclusions = ..."
   ]
  },
  {
   "cell_type": "markdown",
   "metadata": {},
   "source": [
    "# Question 6: Actors"
   ]
  },
  {
   "cell_type": "markdown",
   "metadata": {},
   "source": [
    "Recall the `actors` table from lecture:"
   ]
  },
  {
   "cell_type": "code",
   "execution_count": 62,
   "metadata": {},
   "outputs": [],
   "source": [
    "actors = Table.read_table('actors.csv').where('Number of Movies', are.above(10))\n",
    "actors.show(3)"
   ]
  },
  {
   "cell_type": "markdown",
   "metadata": {},
   "source": [
    "You can find a description of the columns in [Chapter 7](https://www.inferentialthinking.com/chapters/07/Visualization.html) of the textbook. Note that just like in lecture and the textbook, we've removed Anthony Daniels since he's an outlier.\n",
    "\n",
    "For this question, we'll focus on using the box office gross from the actor's top movie (that is, the `Gross` column) to predict the total box office receipt from all the actor's movies (that is, the `Total Gross` column)."
   ]
  },
  {
   "cell_type": "markdown",
   "metadata": {},
   "source": [
    "Recall that when learning about linear regression, we used root mean square error (RMSE). Here's a function that computes it:"
   ]
  },
  {
   "cell_type": "code",
   "execution_count": 63,
   "metadata": {},
   "outputs": [],
   "source": [
    "# You don't have to do anything in this cell: this is the same function that we\n",
    "# defined in lecture, reproduced just so you can see it.\n",
    "def rmse(predictions, actual_values):\n",
    "    \"\"\"\n",
    "    Takes an array of predictions and an array of actual observed values, and returns\n",
    "    the root mean squared error.\n",
    "    \"\"\"\n",
    "    error = actual_values - predictions\n",
    "    squared_error = error ** 2\n",
    "    mean_squared_error = np.mean(squared_error)\n",
    "    return np.sqrt(mean_squared_error)"
   ]
  },
  {
   "cell_type": "markdown",
   "metadata": {
    "deletable": false,
    "editable": false
   },
   "source": [
    "#### Question 6.1\n",
    "\n",
    "(3 points) Suppose instead of using RMSE, we decide to use a *weighted error*. We want our prediction to be more accurate for actors who've been in fewer movies, and we don't care as much about actors who've been in lots of movies. So, we're going to compute the *weighted RMSE* for a prediction line, using this procedure:\n",
    "\n",
    "1. Compute the squared error, just like before.\n",
    "2. For each actor, *divide* the squared error by the weights (i.e., the number of movies the actor has been in). The result of this division will be called the weighted squared error for each actor.\n",
    "3. Compute the average weighted squared error.\n",
    "4. Take the square root.\n",
    "\n",
    "Complete the function below to implement the procedure described here.\n",
    "\n",
    "<!--\n",
    "BEGIN QUESTION\n",
    "name: q6_1\n",
    "manual: false\n",
    "-->"
   ]
  },
  {
   "cell_type": "code",
   "execution_count": 64,
   "metadata": {},
   "outputs": [],
   "source": [
    "def weighted_rmse(predictions, actual_values, weights):\n",
    "    error = actual_values - predictions\n",
    "    ..."
   ]
  },
  {
   "cell_type": "code",
   "execution_count": null,
   "metadata": {
    "deletable": false,
    "editable": false
   },
   "outputs": [],
   "source": [
    "ok.grade(\"q6_1\");"
   ]
  },
  {
   "cell_type": "markdown",
   "metadata": {
    "deletable": false,
    "editable": false
   },
   "source": [
    "#### Question 6.2\n",
    "\n",
    "(4 points) Complete the `weighted_prediction_error` function below, which takes in the slope and intercept for any line, and computes the weighted RMSE for predicting these actors' total box office gross using that line. \n",
    "\n",
    "As a reminder, the line predicts total box office gross (the `Total Gross` column) from the box office gross from the actor's top movie (that is, the `Gross` column), and uses the number of movies the actor has been in (the `Number of Movies` column) for the weights in computing the weighted RMSE.\n",
    "\n",
    "*Hint*: your solution should use the `weighted_rmse` function you defined above.\n",
    "\n",
    "<!--\n",
    "BEGIN QUESTION\n",
    "name: q6_2\n",
    "manual: false\n",
    "-->"
   ]
  },
  {
   "cell_type": "code",
   "execution_count": 67,
   "metadata": {},
   "outputs": [],
   "source": [
    "def weighted_prediction_error(any_slope, any_intercept):\n",
    "    ..."
   ]
  },
  {
   "cell_type": "code",
   "execution_count": null,
   "metadata": {
    "deletable": false,
    "editable": false
   },
   "outputs": [],
   "source": [
    "ok.grade(\"q6_2\");"
   ]
  },
  {
   "cell_type": "markdown",
   "metadata": {
    "deletable": false,
    "editable": false
   },
   "source": [
    "#### Question 6.3\n",
    "\n",
    "(4 points) Find the slope and intercept of the line whose predictions have the smallest weighted RMSE.\n",
    "<!--\n",
    "BEGIN QUESTION\n",
    "name: q6_3\n",
    "manual: false\n",
    "-->"
   ]
  },
  {
   "cell_type": "code",
   "execution_count": 70,
   "metadata": {
    "scrolled": false
   },
   "outputs": [],
   "source": [
    "...\n",
    "best_weighted_slope = ...\n",
    "best_weighted_intercept = ..."
   ]
  },
  {
   "cell_type": "code",
   "execution_count": null,
   "metadata": {
    "deletable": false,
    "editable": false
   },
   "outputs": [],
   "source": [
    "ok.grade(\"q6_3\");"
   ]
  },
  {
   "cell_type": "markdown",
   "metadata": {},
   "source": [
    "The code below plots the original linear regression line (blue) and the line with the smallest weighted RMSE (orange) using your answer from above. The size of each dot represents the number of movies that actor has been in.\n",
    "\n",
    "If you see errors trying to run this cell, it might be because you redefined the `slope` and `intercept` functions from the beginning of this notebook. Try changing the variable names you use, re-running the cell at the top, and running this cell again."
   ]
  },
  {
   "cell_type": "code",
   "execution_count": 74,
   "metadata": {
    "deletable": false,
    "editable": false,
    "scrolled": false
   },
   "outputs": [],
   "source": [
    "# Do not change any of the code in this cell. \n",
    "\n",
    "# You don't have to answer any questions here or understand how this cell works: \n",
    "# it just shows you the result of your work.\n",
    "x = actors.column('Gross')\n",
    "y = actors.column('Total Gross')\n",
    "weights = actors.column('Number of Movies')\n",
    "\n",
    "x_plot = make_array(169, 937)\n",
    "regression_line = x_plot * slope(actors, 'Gross', 'Total Gross') + intercept(actors, 'Gross', 'Total Gross')\n",
    "weighted_line = x_plot * best_weighted_slope + best_weighted_intercept\n",
    "plots.figure()\n",
    "plots.scatter(x, y, s=(weights ** 2) / 30, c='black')\n",
    "plots.plot(x_plot, regression_line, color='tab:blue')\n",
    "plots.plot(x_plot, weighted_line, color='tab:orange')\n",
    "plots.xlabel('Gross')\n",
    "plots.ylabel('Total Gross');"
   ]
  },
  {
   "cell_type": "markdown",
   "metadata": {},
   "source": [
    "# Question 7: US Counties and Food Deserts"
   ]
  },
  {
   "cell_type": "markdown",
   "metadata": {},
   "source": [
    "A [food desert](https://en.wikipedia.org/wiki/Food_desert) is an area that has limited access to nutritious food. In this question, we'll look at food access data for US counties from 2010 to 2015.\n"
   ]
  },
  {
   "cell_type": "code",
   "execution_count": 75,
   "metadata": {},
   "outputs": [],
   "source": [
    "food_access = Table.read_table('food_access_2010_2015.csv')\n",
    "food_access.show(3)"
   ]
  },
  {
   "cell_type": "markdown",
   "metadata": {},
   "source": [
    "The `food_access` table contains one row for each county in the 50 states of the US.\n",
    "\n",
    "It has the following columns:\n",
    "* **`county`**: a string, the name of the county\n",
    "* **`population`**: an int, the number of people living in that county\n",
    "* **`state`**: a string, the two-letter abbreviation for the state the county is in\n",
    "* **`housing_units`**: an int, the number of housing units available in the county\n",
    "* **`urban_pct`**: a float between 0 and 100, the percentage of housing units that are urban in the county\n",
    "* **`low_access_20`**: an int, the number of people in that county living more than twenty miles away from their nearest grocery store\n",
    "* **`low_access_10`**: an int, the number of people in that county living more than ten miles away from their nearest grocery store (includes people living more than twenty miles away)\n",
    "* **`low_access_1`**: an int, the number of people in that county living more than one mile away from their nearest grocery store (includes people living more than 10 and 20 miles away)\n",
    "* **`carless_pct`**: a float between 0 and 100, the percentage of people in that county who don't have a car in their household"
   ]
  },
  {
   "cell_type": "markdown",
   "metadata": {},
   "source": [
    "In this question, you'll also work with the `states` table:"
   ]
  },
  {
   "cell_type": "code",
   "execution_count": 76,
   "metadata": {},
   "outputs": [],
   "source": [
    "states = Table.read_table('states.csv')\n",
    "states.show(3)"
   ]
  },
  {
   "cell_type": "markdown",
   "metadata": {},
   "source": [
    "For each state, the table has:\n",
    "* **`State`**: a string, the name of the state\n",
    "* **`State Code`**: a string, the two-letter abbreviation for the state\n",
    "* **`Region`**: a string, which region the state belongs to\n",
    "* **`Division`**: a string, which division the state belongs to\n",
    "\n",
    "If you're curious about what the regions and divisions are (and what the difference between them is), see [this map from the US Census Bureau](https://www2.census.gov/geo/pdfs/maps-data/maps/reference/us_regdiv.pdf)."
   ]
  },
  {
   "cell_type": "markdown",
   "metadata": {},
   "source": [
    "### Part 1: Table manipulation"
   ]
  },
  {
   "cell_type": "markdown",
   "metadata": {},
   "source": [
    "For each of the following questions, write Python code that computes (or draws) the specified quantity, table, or graph."
   ]
  },
  {
   "cell_type": "markdown",
   "metadata": {
    "deletable": false,
    "editable": false
   },
   "source": [
    "#### Question 7.1.1\n",
    "\n",
    "(2 points) The number of people living more than 10 miles away from a grocery store in Alameda County, where UC Berkeley is.\n",
    "\n",
    "<!--\n",
    "BEGIN QUESTION\n",
    "name: q7_1_1\n",
    "manual: false\n",
    "-->"
   ]
  },
  {
   "cell_type": "code",
   "execution_count": 77,
   "metadata": {},
   "outputs": [],
   "source": [
    "num_people_more_than_10_miles_away_alameda_county = ...\n",
    "num_people_more_than_10_miles_away_alameda_county"
   ]
  },
  {
   "cell_type": "code",
   "execution_count": null,
   "metadata": {
    "deletable": false,
    "editable": false
   },
   "outputs": [],
   "source": [
    "ok.grade(\"q7_1_1\");"
   ]
  },
  {
   "cell_type": "markdown",
   "metadata": {},
   "source": [
    "*Just for fun*: Same as the above question, but for any other county in California that you've lived in or spent time in. Do the results surprise you?"
   ]
  },
  {
   "cell_type": "code",
   "execution_count": 80,
   "metadata": {},
   "outputs": [],
   "source": [
    "# This cell is for answering the \"Just for fun\" question above. Nothing in it will be graded.\n"
   ]
  },
  {
   "cell_type": "markdown",
   "metadata": {
    "deletable": false,
    "editable": false
   },
   "source": [
    "#### Question 7.1.2\n",
    "\n",
    "(3 points) The county in California that has the most people living far away (>10 miles) from a grocery store. The abbreviation for California is CA.\n",
    "\n",
    "<!--\n",
    "BEGIN QUESTION\n",
    "name: q7_1_2\n",
    "manual: false\n",
    "-->"
   ]
  },
  {
   "cell_type": "code",
   "execution_count": 81,
   "metadata": {},
   "outputs": [],
   "source": [
    "...\n",
    "california_county_most_food_deserted = ...\n",
    "california_county_most_food_deserted"
   ]
  },
  {
   "cell_type": "code",
   "execution_count": null,
   "metadata": {
    "deletable": false,
    "editable": false
   },
   "outputs": [],
   "source": [
    "ok.grade(\"q7_1_2\");"
   ]
  },
  {
   "cell_type": "markdown",
   "metadata": {
    "deletable": false,
    "editable": false
   },
   "source": [
    "#### Question 7.1.3\n",
    "\n",
    "(6 points) A table `biggest_state_for_each_division` with the largest state (by population) in each **division** (not region). It should have **one row for each division**, and two columns: one with the name of the division, and one with the name (not the two letter abbreviation) of the most populated state in that division. The names of the columns don't matter, but they must be in that order (division column first, state column second). \n",
    "\n",
    "For example, the most populated state in the Pacific division is California, so one of the rows in your table should have as its first item  the string `Pacific` and as its second item the string `California`.\n",
    "\n",
    "(*Hint*: you may find the `first` function helpful: we've defined it for you here.)\n",
    "\n",
    "<!--\n",
    "BEGIN QUESTION\n",
    "name: q7_1_3\n",
    "manual: false\n",
    "-->"
   ]
  },
  {
   "cell_type": "code",
   "execution_count": 84,
   "metadata": {
    "scrolled": true
   },
   "outputs": [],
   "source": [
    "def first(arr):\n",
    "    return arr.item(0)\n",
    "\n",
    "state_populations = ...\n",
    "...\n",
    "biggest_state_for_each_division = ...\n",
    "biggest_state_for_each_division"
   ]
  },
  {
   "cell_type": "code",
   "execution_count": null,
   "metadata": {
    "deletable": false,
    "editable": false
   },
   "outputs": [],
   "source": [
    "ok.grade(\"q7_1_3\");"
   ]
  },
  {
   "cell_type": "markdown",
   "metadata": {},
   "source": [
    "### Part 2: relationships between quantities"
   ]
  },
  {
   "cell_type": "markdown",
   "metadata": {},
   "source": [
    "For the rest of this question, instead of looking at the number of people without access to a grocery store, we'll look at the percentage.\n",
    "\n",
    "We'll use the following terms:\n",
    "\n",
    "* *low access at 1 mile*: the percentage of people in a county whose nearest grocery store is at least 1 mile away\n",
    "* *low access at 10 miles*: the percentage of people in a county whose nearest grocery store is at least 10 miles away"
   ]
  },
  {
   "cell_type": "code",
   "execution_count": 88,
   "metadata": {
    "deletable": false,
    "editable": false,
    "scrolled": true
   },
   "outputs": [],
   "source": [
    "food_access_with_pcts = food_access.with_columns(\n",
    "    'low_access_1_pct', food_access.column('low_access_1') / food_access.column('population') * 100,\n",
    "    'low_access_10_pct', food_access.column('low_access_10') / food_access.column('population') * 100,\n",
    "    'low_access_20_pct', food_access.column('low_access_20') / food_access.column('population') * 100,\n",
    ").drop('low_access_1', 'low_access_10', 'low_access_20')\n",
    "food_access_with_pcts.show(3)"
   ]
  },
  {
   "cell_type": "markdown",
   "metadata": {
    "deletable": false,
    "editable": false
   },
   "source": [
    "#### Question 7.2.1\n",
    "\n",
    "(2 points) Create one plot that you'd use to answer the following question. You'll use your plot to answer the related multiple choice question below, but you do **not** have to answer the question directly, only create a plot.\n",
    "\n",
    "Is there any association between the percentage of urban housing and low access at **10 miles** in US counties?\n",
    "\n",
    "<!--\n",
    "BEGIN QUESTION\n",
    "name: q7_2_1\n",
    "manual: true\n",
    "-->\n",
    "<!-- EXPORT TO PDF -->"
   ]
  },
  {
   "cell_type": "code",
   "execution_count": 89,
   "metadata": {
    "export_pdf": true
   },
   "outputs": [],
   "source": [
    "# Code to generate your plot goes here\n",
    "..."
   ]
  },
  {
   "cell_type": "markdown",
   "metadata": {
    "deletable": false,
    "editable": false
   },
   "source": [
    "#### Question 7.2.2\n",
    "\n",
    "(3 points) Based only on the data in the table (and the graph you created using that data), which must be true? Assign `low_access_10_urban_choices` to an array with your numbered answer(s).\n",
    "1. Knowing the percentage of urban housing in a county cannot help us predict low access at 10 miles.\n",
    "2. There is a strong linear association between percentage of urban housing and low access at 10 miles.\n",
    "3. The distribution of low access at 10 miles is different between non-urban counties (<5% urban housing) and other counties.\n",
    "4. For counties that are very urban (>80% urban housing), more than half of their population is within 10 miles of a grocery store.\n",
    "\n",
    "<!--\n",
    "BEGIN QUESTION\n",
    "name: q7_2_2\n",
    "manual: true\n",
    "-->\n",
    "<!-- EXPORT TO PDF -->"
   ]
  },
  {
   "cell_type": "code",
   "execution_count": 90,
   "metadata": {
    "export_pdf": true
   },
   "outputs": [],
   "source": [
    "low_access_10_urban_choices = ..."
   ]
  },
  {
   "cell_type": "markdown",
   "metadata": {
    "deletable": false,
    "editable": false
   },
   "source": [
    "#### Question 7.2.3\n",
    "\n",
    "(2 points) Create one plot that you'd use to answer the following question. You do not have to answer the question directly, only create a plot.\n",
    "\n",
    "Is there any association between the percentage of urban housing and low access at **1 mile** in US counties?\n",
    "<!--\n",
    "BEGIN QUESTION\n",
    "name: q7_2_3\n",
    "manual: true\n",
    "-->\n",
    "<!-- EXPORT TO PDF -->"
   ]
  },
  {
   "cell_type": "code",
   "execution_count": 91,
   "metadata": {
    "export_pdf": true
   },
   "outputs": [],
   "source": [
    "# Code to generate your plot goes here\n",
    "..."
   ]
  },
  {
   "cell_type": "markdown",
   "metadata": {
    "deletable": false,
    "editable": false
   },
   "source": [
    "#### Question 7.2.4\n",
    "\n",
    "(2 points) What is the correlation between percentage of urban housing and low access at 1 mile?\n",
    "\n",
    "(*Hint*: You may find it helpful to use some of the functions defined in the \"Useful functions\" section near the top of this notebook).\n",
    "\n",
    "<!--\n",
    "BEGIN QUESTION\n",
    "name: q7_2_4\n",
    "manual: false\n",
    "-->"
   ]
  },
  {
   "cell_type": "code",
   "execution_count": 92,
   "metadata": {},
   "outputs": [],
   "source": [
    "correlation_urban_low1 = ...\n",
    "correlation_urban_low1"
   ]
  },
  {
   "cell_type": "code",
   "execution_count": null,
   "metadata": {
    "deletable": false,
    "editable": false
   },
   "outputs": [],
   "source": [
    "ok.grade(\"q7_2_4\");"
   ]
  },
  {
   "cell_type": "markdown",
   "metadata": {},
   "source": [
    "# Question 8: Likes on Instagram"
   ]
  },
  {
   "cell_type": "markdown",
   "metadata": {},
   "source": [
    "Natalia, an engineer at Instagram, conducts a randomized controlled experiment to evaluate whether social media anxiety is **reduced** when users can't see the number of likes shown on a post. When the next Instagram software update ships, she randomly assigns users in the city of Berkeley to two groups:\n",
    "* **Group A**: 10,000 users who can no longer see the number of likes, and\n",
    "* **Group B**: 8,000 users who can still see the number of likes.\n",
    "\n",
    "One month after shipping the new update, she measures each user's happiness and general sentiment towards Instagram with a survey. She wants to test the claim that the treatment, **hiding the number of likes, increases users' happiness scores**.\n",
    "\n",
    "She prepares a table `instagram_users`, containing 18,000 rows, one for each user in her experiment. She can't share the full dataset with you since it's proprietary, but she chooses 3 random rows to show you, just so you can see what it looks like:"
   ]
  },
  {
   "cell_type": "code",
   "execution_count": 95,
   "metadata": {},
   "outputs": [],
   "source": [
    "instagram_users = Table.read_table('instagram_sample.csv')\n",
    "instagram_users"
   ]
  },
  {
   "cell_type": "markdown",
   "metadata": {},
   "source": [
    "* **`sex`**: a string, the user's sex (`Male` or `Female`)\n",
    "* **`age`**: an int, the user's age\n",
    "* **`group`**: a string, the user's group for the experiment (`A` or `B`)\n",
    "* **`happiness`**: an int, the user's happiness score from the survey (between 0-100)\n",
    "* **`sentiment`**: a string, the user's sentiment from the survey (`Positive`, `Neutral`, or `Negative`)"
   ]
  },
  {
   "cell_type": "markdown",
   "metadata": {},
   "source": [
    "Natalia's null hypothesis is that there is no difference in average happiness between people who see the number of likes compared to those who don't, and that any difference observed in the sample is due to chance.\n",
    "\n",
    "For her test statistic, Natalia decides to use the difference between the average happiness scores of Group A and Group B (that is, the average of Group A minus the average of Group B).\n",
    "\n",
    "Help her come up with an alternative hypothesis:"
   ]
  },
  {
   "cell_type": "markdown",
   "metadata": {
    "deletable": false,
    "editable": false
   },
   "source": [
    "#### Question 8.1\n",
    "\n",
    "(3 points) State an alternative hypothesis that she should use for her test. \n",
    "\n",
    "<!--\n",
    "BEGIN QUESTION\n",
    "name: q8_1\n",
    "manual: true\n",
    "-->\n",
    "<!-- EXPORT TO PDF -->"
   ]
  },
  {
   "cell_type": "markdown",
   "metadata": {
    "export_pdf": true
   },
   "source": [
    "*Write your answer here, replacing this text.*"
   ]
  },
  {
   "cell_type": "markdown",
   "metadata": {
    "deletable": false,
    "editable": false
   },
   "source": [
    "#### Question 8.2\n",
    "\n",
    "(6 points) Natalia asks her coworker for help simulating one value of the test statistic under the null hypothesis, but the code he gives her has some mistakes. Fix the code below so that it correctly computes the test statistic under the null hypothesis.\n",
    "<!--\n",
    "BEGIN QUESTION\n",
    "name: q8_2\n",
    "manual: true\n",
    "-->\n",
    "<!-- EXPORT TO PDF -->"
   ]
  },
  {
   "cell_type": "code",
   "execution_count": 96,
   "metadata": {
    "export_pdf": true
   },
   "outputs": [],
   "source": [
    "# This code contains mistakes that you need to fix.\n",
    "\n",
    "def compute_instagram_test_statistic():\n",
    "    # Shuffle the data\n",
    "    shuffled_groups = instagram_users.take('group').sample(with_replacement = False)\n",
    "\n",
    "    users = instagram_users.append('shuffled_groups', shuffled_groups.column(1))\n",
    "    # Two averages\n",
    "    mean_A = np.average(users.where('shuffled_groups', 'A').select('group'))\n",
    "    mean_B = np.average(users.where('shuffled_groups', 'B').select('group'))\n",
    "    # Test statistic\n",
    "    return mean_A - mean_B"
   ]
  },
  {
   "cell_type": "markdown",
   "metadata": {
    "deletable": false,
    "editable": false
   },
   "source": [
    "#### Question 8.3\n",
    "\n",
    "(4 points) In the question above, why do we shuffle the data? Choose all that apply. Assign `instagram_shuffling_reasons` to an array with your numbered answer(s).\n",
    "\n",
    "1. Under the null hypothesis, the label of being in group A or group B doesn't matter.\n",
    "2. We want to randomize treatment and control to establish causation.\n",
    "3. We want to simulate two groups of people whose expected happiness is identical under the null hypothesis.\n",
    "4. We want to ensure that the users in the experiment are selected randomly.\n",
    "\n",
    "<!--\n",
    "BEGIN QUESTION\n",
    "name: q8_3\n",
    "manual: true\n",
    "-->\n",
    "<!-- EXPORT TO PDF -->"
   ]
  },
  {
   "cell_type": "code",
   "execution_count": 97,
   "metadata": {
    "export_pdf": true
   },
   "outputs": [],
   "source": [
    "instagram_shuffling_reasons = ...\n",
    "instagram_shuffling_reasons"
   ]
  },
  {
   "cell_type": "markdown",
   "metadata": {},
   "source": [
    "Natalia fixes the code, and simulates 10,000 values of the test statistic under the null hypothesis. She shows them in the histogram below. You should assume that the histogram shows all of the simulated values."
   ]
  },
  {
   "attachments": {
    "image.png": {
     "image/png": "[encoded data removed]"
    }
   },
   "cell_type": "markdown",
   "metadata": {},
   "source": [
    "![image.png](attachment:image.png)"
   ]
  },
  {
   "cell_type": "markdown",
   "metadata": {
    "deletable": false,
    "editable": false
   },
   "source": [
    "#### Question 8.4\n",
    "\n",
    "(4 points) Based on this histogram, which of the following must be true? Assign `instagram_null_simulation_choices` to an array with your numbered answer(s).\n",
    "\n",
    "1. Seeing the number of likes on a post has a positive effect on user happiness.\n",
    "2. Seeing the number of likes on a post has no effect on user happiness.\n",
    "3. If the $p$-value cutoff for the test is 0.01 and the observed test statistic is 35, then we should conclude the data are more consistent with the alternative hypothesis.\n",
    "4. If the $p$-value cutoff for the test is 0.05 and the observed test statistic is 10,  then we should conclude the data are more consistent with the null hypothesis.\n",
    "5. Seeing the number of likes on a post has a negative effect on user happiness.\n",
    "\n",
    "<!--\n",
    "BEGIN QUESTION\n",
    "name: q8_4\n",
    "manual: true\n",
    "-->\n",
    "<!-- EXPORT TO PDF -->"
   ]
  },
  {
   "cell_type": "code",
   "execution_count": 98,
   "metadata": {
    "export_pdf": true
   },
   "outputs": [],
   "source": [
    "instagram_null_simulation_choices = ..."
   ]
  },
  {
   "cell_type": "markdown",
   "metadata": {
    "deletable": false,
    "editable": false
   },
   "source": [
    "#### Question 8.5\n",
    "\n",
    "(5 points) Suppose Natalia tells you the observed test statistic was 42. Which conclusion(s) are the data consistent with? Assign `instagram_test_conclusion_choices` to an array with your numbered answer(s).\n",
    "\n",
    "1. The difference in happiness scores between group A and group B is due to chance alone\n",
    "2. The treatment has a negative association with happiness scores\n",
    "3. The treatment has a positive effect on happiness scores\n",
    "4. The treatment increases users' happiness scores by 42 points.\n",
    "5. The data support the null hypothesis.\n",
    "6. The data support the alternative hypothesis.\n",
    "7. There isn't enough information to make a conclusion of any kind.\n",
    "\n",
    "<!--\n",
    "BEGIN QUESTION\n",
    "name: q8_5\n",
    "manual: true\n",
    "-->\n",
    "<!-- EXPORT TO PDF -->"
   ]
  },
  {
   "cell_type": "code",
   "execution_count": 99,
   "metadata": {
    "export_pdf": true
   },
   "outputs": [],
   "source": [
    "instagram_test_conclusion_choices = ..."
   ]
  },
  {
   "cell_type": "markdown",
   "metadata": {},
   "source": [
    "For the remainder of this question, instead of testing for an increase in happiness scores, Natalia would like to test whether the treatment (i.e. hiding the number of likes) changes users' `sentiment`: that is, she's only interested in seeing whether the sentiment is significantly different.\n",
    "\n",
    "Recall from the table above that `sentiment` is measured as either `Positive`, `Neutral`, or `Negative`.\n",
    "\n",
    "She comes up with the following alternative hypothesis:\n",
    "\n",
    "*The distribution of user sentiment between treatment (hiding the number of likes) and control (showing the number of likes) is different.*\n",
    "\n",
    "Provide a null hypothesis and a test statistic she could use for her test."
   ]
  },
  {
   "cell_type": "markdown",
   "metadata": {
    "deletable": false,
    "editable": false
   },
   "source": [
    "#### Question 8.6\n",
    "\n",
    "(3 points) Null hypothesis:\n",
    "<!--\n",
    "BEGIN QUESTION\n",
    "name: q8_6\n",
    "manual: true\n",
    "-->\n",
    "<!-- EXPORT TO PDF -->"
   ]
  },
  {
   "cell_type": "markdown",
   "metadata": {
    "export_pdf": true
   },
   "source": [
    "*Write your answer here, replacing this text.*"
   ]
  },
  {
   "cell_type": "markdown",
   "metadata": {
    "deletable": false,
    "editable": false
   },
   "source": [
    "#### Question 8.7\n",
    "\n",
    "(3 points) What would be a valid test statistic to tell the two hypotheses above apart?\n",
    "\n",
    "<!--\n",
    "BEGIN QUESTION\n",
    "name: q8_7\n",
    "manual: true\n",
    "-->\n",
    "<!-- EXPORT TO PDF -->"
   ]
  },
  {
   "cell_type": "markdown",
   "metadata": {
    "export_pdf": true
   },
   "source": [
    "*Write your answer here, replacing this text.*"
   ]
  },
  {
   "cell_type": "markdown",
   "metadata": {
    "deletable": false,
    "editable": false
   },
   "source": [
    "#### Question 8.8\n",
    "\n",
    "(3 points) Natalia and her coworker are deciding whether to roll this feature out worldwide. Her coworker wants to collect more data, and develops a sentiment analysis algorithm that analyzes the content of users' posted images and captions to automatically determine their sentiment (positive, negative, or neutral).\n",
    "\n",
    "Describe, in two sentences or less, any privacy concerns that you would have around the collection of this data.\n",
    "\n",
    "*Hint*: this question is more open-ended than most of the rest of this exam: there isn't only one correct answer.\n",
    "<!--\n",
    "BEGIN QUESTION\n",
    "name: q8_8\n",
    "manual: true\n",
    "-->\n",
    "<!-- EXPORT TO PDF -->"
   ]
  },
  {
   "cell_type": "markdown",
   "metadata": {
    "export_pdf": true
   },
   "source": [
    "*Write your answer here, replacing this text.*"
   ]
  },
  {
   "cell_type": "markdown",
   "metadata": {},
   "source": [
    "# Question 9: Bread"
   ]
  },
  {
   "cell_type": "markdown",
   "metadata": {},
   "source": [
    "## Part 1: Frozen slices"
   ]
  },
  {
   "cell_type": "markdown",
   "metadata": {},
   "source": [
    "Ilin bakes too much bread, so she decides to slice it and put it in her freezer. She has three loaves of bread: one rye, one sourdough, and one multigrain. She slices each loaf: **the rye bread has 8 slices, the sourdough bread has 5 slices, and the multigrain bread has 12 slices**. In each loaf, two of the slices are \"heels\" (the slice at each end). She puts all the slices into a giant bag and mixes them up. Each day, she pulls out one slice at random, toasts it, and eats it."
   ]
  },
  {
   "cell_type": "markdown",
   "metadata": {
    "deletable": false,
    "editable": false
   },
   "source": [
    "#### Question 9.1.1\n",
    "\n",
    "(2 points) What is the probability that her first slice is sourdough?\n",
    "\n",
    "<!--\n",
    "BEGIN QUESTION\n",
    "name: q9_1_1\n",
    "manual: false\n",
    "-->"
   ]
  },
  {
   "cell_type": "code",
   "execution_count": 100,
   "metadata": {},
   "outputs": [],
   "source": [
    "slice_sourdough = ...\n",
    "slice_sourdough"
   ]
  },
  {
   "cell_type": "code",
   "execution_count": null,
   "metadata": {
    "deletable": false,
    "editable": false
   },
   "outputs": [],
   "source": [
    "ok.grade(\"q9_1_1\");"
   ]
  },
  {
   "cell_type": "markdown",
   "metadata": {
    "deletable": false,
    "editable": false
   },
   "source": [
    "#### Question 9.1.2\n",
    "\n",
    "(3 points) What is the probability that in her first two slices, she doesn't get any sourdough?\n",
    "\n",
    "<!--\n",
    "BEGIN QUESTION\n",
    "name: q9_1_2\n",
    "manual: false\n",
    "-->"
   ]
  },
  {
   "cell_type": "code",
   "execution_count": 103,
   "metadata": {},
   "outputs": [],
   "source": [
    "no_sourdough = ...\n",
    "no_sourdough"
   ]
  },
  {
   "cell_type": "code",
   "execution_count": null,
   "metadata": {
    "deletable": false,
    "editable": false
   },
   "outputs": [],
   "source": [
    "ok.grade(\"q9_1_2\");"
   ]
  },
  {
   "cell_type": "markdown",
   "metadata": {
    "deletable": false,
    "editable": false
   },
   "source": [
    "#### Question 9.1.3\n",
    "\n",
    "(3 points) What is the probability that the first three slices are all heels?\n",
    "<!--\n",
    "BEGIN QUESTION\n",
    "name: q9_1_3\n",
    "manual: false\n",
    "-->"
   ]
  },
  {
   "cell_type": "code",
   "execution_count": 106,
   "metadata": {},
   "outputs": [],
   "source": [
    "three_heels = ...\n",
    "three_heels"
   ]
  },
  {
   "cell_type": "code",
   "execution_count": null,
   "metadata": {
    "deletable": false,
    "editable": false
   },
   "outputs": [],
   "source": [
    "ok.grade(\"q9_1_3\");"
   ]
  },
  {
   "cell_type": "markdown",
   "metadata": {
    "deletable": false,
    "editable": false
   },
   "source": [
    "#### Question 9.1.4\n",
    "\n",
    "(3 points) The first slice she pulls out is a heel. What is the probability that it is sourdough?\n",
    "\n",
    "<!--\n",
    "BEGIN QUESTION\n",
    "name: q9_1_4\n",
    "manual: false\n",
    "-->"
   ]
  },
  {
   "cell_type": "code",
   "execution_count": 109,
   "metadata": {},
   "outputs": [],
   "source": [
    "sourdough_heel = ...\n",
    "sourdough_heel"
   ]
  },
  {
   "cell_type": "code",
   "execution_count": null,
   "metadata": {
    "deletable": false,
    "editable": false
   },
   "outputs": [],
   "source": [
    "ok.grade(\"q9_1_4\");"
   ]
  },
  {
   "cell_type": "markdown",
   "metadata": {},
   "source": [
    "## Part 2: Quality control"
   ]
  },
  {
   "cell_type": "markdown",
   "metadata": {},
   "source": [
    "Jin is in charge of quality control at a very large bakery that makes tens of thousands of loaves of bread each day. Each loaf is advertised as weighing 500 grams, but the exact weight varies a little bit from loaf to loaf.\n",
    "\n",
    "Jin has had complaints from customers that their bread weighed less than 500 grams. He speaks with the bakers, who assure him that the average loaf weighs 500 grams, and that the standard deviation of the loaf weights is 5 grams. They show him the following histogram of distribution of weights that the loaves are supposed to follow.\n",
    "\n",
    "According to the bakers, the distribution of weights in the population of loaves is as follows:"
   ]
  },
  {
   "attachments": {
    "image.png": {
     "image/png": "[encoded data removed]"
    }
   },
   "cell_type": "markdown",
   "metadata": {},
   "source": [
    "![image.png](attachment:image.png)"
   ]
  },
  {
   "cell_type": "markdown",
   "metadata": {
    "deletable": false,
    "editable": false
   },
   "source": [
    "#### Question 9.2.1\n",
    "\n",
    "(4 points) To verify this, he plans to hire 10,000 auditors to come into the bakery, and each one will randomly sample 100 loaves and weigh them. Each auditor will then tell Jin the average weight of the 100 loaves that they weighed.\n",
    "\n",
    "Assuming the population distribution information above is correct, about how many of the 10,000 auditors will find an average weight below 499 grams? Your response should be a number between 0 and 10,000.\n",
    "\n",
    "*Hint*: you should compute your answer using arithmetic from the information given, not using a simulation.\n",
    "\n",
    "<!--\n",
    "BEGIN QUESTION\n",
    "name: q9_2_1\n",
    "manual: false\n",
    "-->"
   ]
  },
  {
   "cell_type": "code",
   "execution_count": 112,
   "metadata": {},
   "outputs": [],
   "source": [
    "...\n",
    "auditors_avg_below_499 = ...\n",
    "auditors_avg_below_499"
   ]
  },
  {
   "cell_type": "code",
   "execution_count": null,
   "metadata": {
    "deletable": false,
    "editable": false
   },
   "outputs": [],
   "source": [
    "ok.grade(\"q9_2_1\");"
   ]
  },
  {
   "cell_type": "markdown",
   "metadata": {
    "deletable": false,
    "editable": false
   },
   "source": [
    "#### Question 9.2.2\n",
    "\n",
    "(4 points) When Jin discusses this idea with his peers, they tell him it's much too expensive. Instead, they suggest hiring one auditor, and asking the auditor to collect a slightly larger random sample of 225 loaves.\n",
    "\n",
    "Assuming the population distribution information above is correct, approximately what is this probability that the auditor will find an average weight below 499 grams? Your response should be a number between 0 and 1.\n",
    "\n",
    "You should compute your answer using arithmetic from the information given, not using a simulation.\n",
    "\n",
    "<!--\n",
    "BEGIN QUESTION\n",
    "name: q9_2_2\n",
    "manual: false\n",
    "-->"
   ]
  },
  {
   "cell_type": "code",
   "execution_count": 115,
   "metadata": {},
   "outputs": [],
   "source": [
    "...\n",
    "prob_auditors_avg_below_499 = ...\n",
    "prob_auditors_avg_below_499"
   ]
  },
  {
   "cell_type": "code",
   "execution_count": null,
   "metadata": {
    "deletable": false,
    "editable": false
   },
   "outputs": [],
   "source": [
    "ok.grade(\"q9_2_2\");"
   ]
  },
  {
   "cell_type": "markdown",
   "metadata": {},
   "source": [
    "## 2. Submission\n"
   ]
  },
  {
   "cell_type": "markdown",
   "metadata": {
    "collapsed": true
   },
   "source": [
    "Once you're finished, select \"Save and Checkpoint\" in the File menu and then execute the `submit` cell below. The result will contain a link that you can use to check that your assignment has been submitted successfully. If you submit more than once before the deadline, we will only grade your final submission. If you mistakenly submit the wrong one, you can head to [okpy.org](https://okpy.org/) and flag the correct version. To do so, go to the website, click on this assignment, and find the version you would like to have graded. There should be an option to flag that submission for grading!"
   ]
  },
  {
   "cell_type": "code",
   "execution_count": 119,
   "metadata": {
    "collapsed": true
   },
   "outputs": [],
   "source": [
    "_ = ok.submit()"
   ]
  },
  {
   "cell_type": "code",
   "execution_count": 120,
   "metadata": {
    "collapsed": true
   },
   "outputs": [],
   "source": [
    "# For your convenience, you can run this cell to run all the tests at once!\n",
    "import os\n",
    "print(\"Running all tests...\")\n",
    "_ = [ok.grade(q[:-3]) for q in os.listdir(\"tests\") if q.startswith('q') and len(q) <= 10]\n",
    "print(\"Finished running all tests.\")"
   ]
  }
 ],
 "metadata": {
  "kernelspec": {
   "display_name": "Python 3",
   "language": "python",
   "name": "python3"
  },
  "language_info": {
   "codemirror_mode": {
    "name": "ipython",
    "version": 3
   },
   "file_extension": ".py",
   "mimetype": "text/x-python",
   "name": "python",
   "nbconvert_exporter": "python",
   "pygments_lexer": "ipython3",
   "version": "3.7.4"
  }
 },
 "nbformat": 4,
 "nbformat_minor": 0
}
