{
 "cells": [
  {
   "cell_type": "code",
   "execution_count": null,
   "metadata": {},
   "outputs": [],
   "source": [
    "# Run cells by clicking on them and hitting CTRL + ENTER on your keyboard\n",
    "# Support embedding YouTube Videos in Notebooks\n",
    "from IPython.display import YouTubeVideo"
   ]
  },
  {
   "cell_type": "markdown",
   "metadata": {},
   "source": [
    "# Module 1.1 Part 1: What is Data Science?\n",
    "\n",
    "In this notebook, you'll learn about how data science techniques can be used to tackle questions about the world.  \n",
    "\n",
    "This notebook includes 5 videos with a total runtime of 26:07.\n",
    "\n",
    "- [Why Data Science?](#section1) *1 video, total runtime 4:11*\n",
    "- [Programming](#section2) *1 video, total runtime 2:10*\n",
    "- [Demos](#section3) *3 videos, total runtime 19:46*\n",
    "- [Check for Understanding](#section4)\n",
    "\n",
    "Textbook Readings:\n",
    "- [Chapter 1: Data Science](https://www.inferentialthinking.com/chapters/01/what-is-data-science.html)"
   ]
  },
  {
   "cell_type": "markdown",
   "metadata": {},
   "source": [
    "<a id='section1'></a>\n",
    "## 1. Why Data Science?\n",
    "\n",
    "Data science pulls from computer science, statistics, and domain knowledge to draw meaningful conclusions from data. Data science can be used to explore a population, draw inferences about population characteristics, and make informed predictions about the future."
   ]
  },
  {
   "cell_type": "code",
   "execution_count": null,
   "metadata": {},
   "outputs": [],
   "source": [
    "YouTubeVideo(\"BKgdDLrSC5s\")"
   ]
  },
  {
   "cell_type": "markdown",
   "metadata": {},
   "source": [
    "<a id='section2'></a>\n",
    "## 2. Programming \n",
    "\n",
    "In the first part of the course, we'll focus building the foundational programming skills you need to complete your first analysis! We'll use Jupyter notebooks to perform numerical calculations, data visualizations, and more! "
   ]
  },
  {
   "cell_type": "code",
   "execution_count": null,
   "metadata": {},
   "outputs": [],
   "source": [
    "YouTubeVideo(\"PFgBCG_evEg\")"
   ]
  },
  {
   "cell_type": "markdown",
   "metadata": {},
   "source": [
    "<a id='section3'></a>\n",
    "## 3. Demos \n",
    "\n",
    "Watch the videos below to see how programming techniques can be used to process data. In a few short works, you'll be able to replicate these analyses yourself!"
   ]
  },
  {
   "cell_type": "markdown",
   "metadata": {},
   "source": [
    "### Little Women"
   ]
  },
  {
   "cell_type": "code",
   "execution_count": null,
   "metadata": {
    "scrolled": true
   },
   "outputs": [],
   "source": [
    "YouTubeVideo(\"Yt-hzH_1u_A\")"
   ]
  },
  {
   "cell_type": "markdown",
   "metadata": {},
   "source": [
    "### Visualizations Pt. 1"
   ]
  },
  {
   "cell_type": "code",
   "execution_count": null,
   "metadata": {},
   "outputs": [],
   "source": [
    "YouTubeVideo(\"N2Sq_2HMWFw\")"
   ]
  },
  {
   "cell_type": "markdown",
   "metadata": {},
   "source": [
    "### Visualizations Pt. 2"
   ]
  },
  {
   "cell_type": "code",
   "execution_count": null,
   "metadata": {},
   "outputs": [],
   "source": [
    "YouTubeVideo(\"GeZ3ugunMn4\")"
   ]
  },
  {
   "cell_type": "markdown",
   "metadata": {},
   "source": [
    "<a id='section4'></a>\n",
    "### Check for Understanding\n",
    "**A. What is _not_ considered a goal of prediction?**\n",
    "\n",
    "<ol type=\"a\">\n",
    "  <li> Making informed guesses </li>\n",
    "  <li> Identifying patterns in data </li>\n",
    "  <li> Forecasting future trends based on data </li>\n",
    "</ol>\n",
    "\n",
    "<details>\n",
    "    <summary>Solution</summary>\n",
    "    2\n",
    "</details>"
   ]
  }
 ],
 "metadata": {
  "kernelspec": {
   "display_name": "Python 3",
   "language": "python",
   "name": "python3"
  },
  "language_info": {
   "codemirror_mode": {
    "name": "ipython",
    "version": 3
   },
   "file_extension": ".py",
   "mimetype": "text/x-python",
   "name": "python",
   "nbconvert_exporter": "python",
   "pygments_lexer": "ipython3",
   "version": "3.7.4"
  }
 },
 "nbformat": 4,
 "nbformat_minor": 4
}
