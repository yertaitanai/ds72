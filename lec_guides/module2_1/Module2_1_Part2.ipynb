{
 "cells": [
  {
   "cell_type": "code",
   "execution_count": null,
   "metadata": {},
   "outputs": [],
   "source": [
    "# Run cells by clicking on them and hitting CTRL + ENTER on your keyboard\n",
    "from IPython.display import YouTubeVideo\n",
    "from datascience import *\n",
    "import numpy as np\n",
    "%matplotlib inline"
   ]
  },
  {
   "cell_type": "markdown",
   "metadata": {},
   "source": [
    "# Module 2.1 Part 2: Histograms\n",
    "\n",
    "This lecture guide intoduces histograms, a popular method for visualizing the distributions of numerical data.\n",
    "\n",
    "7 videos make up this notebook, with a total running time of 60:14.\n",
    "\n",
    "1. [The Area Principle](#section1) *1 video, total runtime 7:21*\n",
    "2. [Binning](#section2) *2 videos, total runtime 18:03*\n",
    "3. [Drawing Histograms](#section3) *1 video, total runtime 13:05*\n",
    "4. [Density](#section4) *1 video, total runtime 9:37*\n",
    "5. [Check for Understanding](#section5) *2 videos, total runtime 12:08, and 2 short answer questions*\n",
    "\n",
    "Textbook readings: [Chapter 7.2: Visualization, Numerical Distributions](https://www.inferentialthinking.com/chapters/07/2/Visualizing_Numerical_Distributions.html)"
   ]
  },
  {
   "cell_type": "markdown",
   "metadata": {},
   "source": [
    "<a id='section1'></a>\n",
    "## 1. Area Principle\n",
    "\n",
    "Before diving into histograms, we introduce the *area principle*. Following this principle ensures that\n",
    "histograms honestly depict patterns in the data."
   ]
  },
  {
   "cell_type": "code",
   "execution_count": null,
   "metadata": {},
   "outputs": [],
   "source": [
    "YouTubeVideo(\"qEYz6D0MKq8\")"
   ]
  },
  {
   "cell_type": "markdown",
   "metadata": {},
   "source": [
    "<a id='section2'></a>\n",
    "## 2. Binning\n",
    "\n",
    "In the next videos, you'll learn how to *bin* numerical variables such that they can be plotted in a histogram."
   ]
  },
  {
   "cell_type": "code",
   "execution_count": null,
   "metadata": {},
   "outputs": [],
   "source": [
    "YouTubeVideo(\"kREoWbByNZs\")"
   ]
  },
  {
   "cell_type": "code",
   "execution_count": null,
   "metadata": {},
   "outputs": [],
   "source": [
    "YouTubeVideo(\"vz5VLqrw-tA\")"
   ]
  },
  {
   "cell_type": "markdown",
   "metadata": {},
   "source": [
    "Let's again consider the Bay Area Bike Share dataset. First, filter out all trips whose duration exceeds one hour. Note that\n",
    "the *Duration* measures the the rental duration in seconds. Next, tabulate *Duration*'s distribution. Use bins corresponding to\n",
    "5 minute intervals, and to 15 minute intervals. Which binwidth (a.k.a. bin interval) do you prefer?"
   ]
  },
  {
   "cell_type": "code",
   "execution_count": null,
   "metadata": {},
   "outputs": [],
   "source": [
    "# load the bike trips data\n",
    "bike_trips = Table.read_table('https://www.inferentialthinking.com/data/trip.csv')\n",
    "bike_trips"
   ]
  },
  {
   "cell_type": "code",
   "execution_count": null,
   "metadata": {},
   "outputs": [],
   "source": [
    "# filter out trips exceeding one hour\n",
    "...\n",
    "\n",
    "# count table with bins corresponding to 5 minute intervals\n",
    "...\n",
    "\n",
    "# count table with bins corresponding to 15 minute intervals\n",
    "..."
   ]
  },
  {
   "cell_type": "markdown",
   "metadata": {},
   "source": [
    "<details>\n",
    "    <summary>Solution</summary>\n",
    "    <b>Code</b>: <br>\n",
    "    # filter out trips exceeding one hour <br>\n",
    "    bike_trips = bike_trips.where(\"Duration\", are.below(3600)) <br>\n",
    "    # count table with bins corresponding to 5 minute intervals <br>\n",
    "    bike_trips.bin(\"Duration\", bins = np.arange(0, 3601, 300)) <br>\n",
    "    # count table with bins corresponding to 15 minute intervals <br>\n",
    "    bike_trips.bin(\"Duration\", bins = np.arange(0, 3601, 900)) <br>\n",
    "    <b>Explanation</b>: <br>\n",
    "    Most rentals last less than 15 minutes. The table using 5 minute intervals as bins conveys more information than the table using 15 minute intervals.\n",
    "    Bins corresponding to 5 minute intervals are therefore more appropriate.\n",
    "</details>\n",
    "<br>"
   ]
  },
  {
   "cell_type": "markdown",
   "metadata": {},
   "source": [
    "<a id='section3'></a>\n",
    "## 3. Drawing Histograms\n",
    "\n",
    "In the next video, you'll learn how to visualize the distribution of a numerical variable using a histogram."
   ]
  },
  {
   "cell_type": "code",
   "execution_count": null,
   "metadata": {},
   "outputs": [],
   "source": [
    "YouTubeVideo(\"xPv7VNSBJZQ\")"
   ]
  },
  {
   "cell_type": "markdown",
   "metadata": {},
   "source": [
    "Let's visualize the rental duration distribution that you tabulated in the previous section. Once again, consider\n",
    "bins corresponding to 5 and 15 minute intervals. Don't forget to indicate the units! Which histogram do you prefer?"
   ]
  },
  {
   "cell_type": "code",
   "execution_count": null,
   "metadata": {},
   "outputs": [],
   "source": [
    "# histogram of duration with bins corresponding to 5 minute intervals\n",
    "bike_trips.hist(...)\n",
    "\n",
    "# histogram of duration with bins corresponding to 15 minute intervals\n",
    "bike_trips.hist(...)"
   ]
  },
  {
   "cell_type": "markdown",
   "metadata": {},
   "source": [
    "<details>\n",
    "    <summary>Solution</summary>\n",
    "    <b>Code</b>: <br>\n",
    "    # histogram of duration with bins corresponding to 5 minute intervals <br>\n",
    "    bike_trips.hist(\"Duration\", bins = np.arange(0, 3601, 300), unit = \"Seconds\") <br>\n",
    "    # histogram of duration with bins corresponding to 15 minute intervals <br>\n",
    "    bike_trips.hist(\"Duration\", bins = np.arange(0, 3601, 900), unit = \"Seconds\") <br>\n",
    "    <b>Explanation</b>: <br>\n",
    "    As with the tables, the histogram produced with bins corresponding to 5 minute intervals provides a more descriptive picture of\n",
    "    <i>Duration</i>'s distribution than does the histogram using 15 minute intervals.\n",
    "</details>\n",
    "<br>"
   ]
  },
  {
   "cell_type": "markdown",
   "metadata": {},
   "source": [
    "<a id='section4'></a>\n",
    "## 4. Density\n",
    "\n",
    "The vertical axis of a histogram typically corresponds to a quantity called *density*. This new measurement is defined in the following video."
   ]
  },
  {
   "cell_type": "code",
   "execution_count": null,
   "metadata": {},
   "outputs": [],
   "source": [
    "YouTubeVideo(\"F8Pv0DWqPls\")"
   ]
  },
  {
   "cell_type": "markdown",
   "metadata": {},
   "source": [
    "<a id='section5'></a>\n",
    "## 5. Check for Understanding\n",
    "\n",
    "The problems in the following videos will help you assess your understanding of the material introduced in this submodule.\n",
    "Don't forget to do the short answer questions, either!"
   ]
  },
  {
   "cell_type": "code",
   "execution_count": null,
   "metadata": {},
   "outputs": [],
   "source": [
    "YouTubeVideo(\"ZwvovAbWUyY\")"
   ]
  },
  {
   "cell_type": "code",
   "execution_count": null,
   "metadata": {},
   "outputs": [],
   "source": [
    "YouTubeVideo(\"Jl5fNPkEcDI\")"
   ]
  },
  {
   "cell_type": "markdown",
   "metadata": {},
   "source": [
    "### Short Answer Questions\n",
    "\n",
    "**A. Fill in the blanks: The area principle dictates that the area of a histogram's bar must be ________ to the number of entries in the bar's bin.**\n",
    "\n",
    "<details>\n",
    "    <summary>Solution</summary>\n",
    "    proportional\n",
    "</details>\n",
    "<br>\n",
    "\n",
    "**B. True or false: The area principle ensures that no distributional details are lost when binning a numerical variable.**\n",
    "\n",
    "<details>\n",
    "    <summary>Solution</summary>\n",
    "    False. Even when judiciously selecting the binwidth, some distributional details are lost in the binning process. For examle,\n",
    "    review the tables and histograms that you generated in Sections 2 and 3. Even though the area principle is respected when using\n",
    "    a binwidth of 15 minutes, much less information is conveyed about <i>Duration</i>'s distribution than by the table and plot\n",
    "    employing a 5 minute binwidth.\n",
    "</details>\n",
    "<br>"
   ]
  }
 ],
 "metadata": {
  "kernelspec": {
   "display_name": "Python 3",
   "language": "python",
   "name": "python3"
  },
  "language_info": {
   "codemirror_mode": {
    "name": "ipython",
    "version": 3
   },
   "file_extension": ".py",
   "mimetype": "text/x-python",
   "name": "python",
   "nbconvert_exporter": "python",
   "pygments_lexer": "ipython3",
   "version": "3.8.2"
  }
 },
 "nbformat": 4,
 "nbformat_minor": 4
}
