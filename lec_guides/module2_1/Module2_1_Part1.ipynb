{
 "cells": [
  {
   "cell_type": "code",
   "execution_count": null,
   "metadata": {},
   "outputs": [],
   "source": [
    "# Run cells by clicking on them and hitting CTRL + ENTER on your keyboard\n",
    "from IPython.display import YouTubeVideo\n",
    "from datascience import *\n",
    "%matplotlib inline"
   ]
  },
  {
   "cell_type": "markdown",
   "metadata": {},
   "source": [
    "# Module 2.1 Part 1: Charts, Data Types, and Categorical Distributions \n",
    "\n",
    "In this notebook, you'll be introduced to various types of data, and how best to visualize them.\n",
    "\n",
    "This notebooks contains 8 videos, with a total runtime of 54:49.\n",
    "\n",
    "1. [Line Graphs](#section1) *2 videos, total runtime 16:10*\n",
    "2. [Scatter Plots](#section2) *2 videos, total runtime 13:41*\n",
    "3. [Choosing the Plotting Method](#section3) *1 video, total runtime 2:14*\n",
    "4. [Types of Data](#section4) *1 video, total runtime 3:57*\n",
    "5. [Distributions](#section5) *2 videos, total runtime 18:47*\n",
    "6. [Check for Understanding](#section6)\n",
    "\n",
    "Textbook Readings:\n",
    "- [Chapter 7: Visualizations](https://www.inferentialthinking.com/chapters/07/Visualization.html)\n",
    "- [Chapter 7.1: Visualization, Categorical Distributions](https://www.inferentialthinking.com/chapters/07/1/Visualizing_Categorical_Distributions.html)"
   ]
  },
  {
   "cell_type": "markdown",
   "metadata": {},
   "source": [
    "<a id='section1'></a>\n",
    "## 1. Line Graphs\n",
    "\n",
    "A picture is worth a thousand words -- or, in a data science context, a thousand values stored in a\n",
    "table. The next videos describes how we can succintly represent chronological trends via line graphs."
   ]
  },
  {
   "cell_type": "code",
   "execution_count": null,
   "metadata": {},
   "outputs": [],
   "source": [
    "YouTubeVideo(\"pcEadlLnFBw\")"
   ]
  },
  {
   "cell_type": "code",
   "execution_count": null,
   "metadata": {},
   "outputs": [],
   "source": [
    "YouTubeVideo(\"5-NEr5Pnybk\")"
   ]
  },
  {
   "cell_type": "markdown",
   "metadata": {},
   "source": [
    "The data below provides aggregated information on movies produced in the United States between 1980 and 2015.\n",
    "Use a line plot to visualize the number of movies produced each year during this time period. Repeat for the\n",
    "total gross per year. Are there any obvious trends?"
   ]
  },
  {
   "cell_type": "code",
   "execution_count": null,
   "metadata": {},
   "outputs": [],
   "source": [
    "# load the movies_by_year dataset\n",
    "movies_by_year = Table.read_table('https://www.inferentialthinking.com/data/movies_by_year.csv')\n",
    "\n",
    "# visualize the number of movies produced per year\n",
    "movies_by_year.plot(...)\n",
    "\n",
    "# visualize the total gross produced per year\n",
    "movies_by_year.plot(...)"
   ]
  },
  {
   "cell_type": "markdown",
   "metadata": {},
   "source": [
    "<details>\n",
    "    <summary>Solution</summary>\n",
    "    <b>Code</b>: <br>\n",
    "    movies_by_year.plot('Year', 'Number of Movies') <br>\n",
    "    movies_by_year.plot('Year', 'Total Gross') <br>\n",
    "    <b>Interpretation</b>: <br>\n",
    "    Both the number of movies and total gross tended to increase from year to year between 1980 and 2015.\n",
    "</details>"
   ]
  },
  {
   "cell_type": "markdown",
   "metadata": {},
   "source": [
    "<a id='section2'></a>\n",
    "## 2. Scatter Plots"
   ]
  },
  {
   "cell_type": "markdown",
   "metadata": {},
   "source": [
    "Next, scatter plots are introduced as a tool for displaying the relationship between two numerical variables."
   ]
  },
  {
   "cell_type": "code",
   "execution_count": null,
   "metadata": {},
   "outputs": [],
   "source": [
    "YouTubeVideo(\"6mPOvbubJSM\")"
   ]
  },
  {
   "cell_type": "code",
   "execution_count": null,
   "metadata": {},
   "outputs": [],
   "source": [
    "YouTubeVideo(\"WxrsPBNklks\")"
   ]
  },
  {
   "cell_type": "markdown",
   "metadata": {},
   "source": [
    "Consider the `actors` dataset loaded in the cell below. Plot the relationship between the actors' average gross per movie and the gross\n",
    "of their most successful movie. Only consider actors who have starred in over 30 movies."
   ]
  },
  {
   "cell_type": "code",
   "execution_count": null,
   "metadata": {},
   "outputs": [],
   "source": [
    "# load the actors dataset\n",
    "actors = Table.read_table('https://www.inferentialthinking.com/data/actors.csv')\n",
    "\n",
    "# produce the scatter plot\n",
    "..."
   ]
  },
  {
   "cell_type": "markdown",
   "metadata": {},
   "source": [
    "<details>\n",
    "    <summary>Solution</summary>\n",
    "    actors.where(\"Number of Movies\", are.above(30)).scatter(\"Average per Movie\", \"Gross\")\n",
    "</details>\n",
    "<br>"
   ]
  },
  {
   "cell_type": "markdown",
   "metadata": {},
   "source": [
    "<a id='section3'></a>\n",
    "## 3. Choosing the Plotting Method\n",
    "\n",
    "In the next video, you'll learn how to choose between a line graph and a scatter plot."
   ]
  },
  {
   "cell_type": "code",
   "execution_count": null,
   "metadata": {},
   "outputs": [],
   "source": [
    "YouTubeVideo(\"CQIc1pjkyEM\")"
   ]
  },
  {
   "cell_type": "markdown",
   "metadata": {},
   "source": [
    "<a id='section4'></a>\n",
    "## 4. Types of Data\n",
    "\n",
    "You'll learn to distinguish between numerical and categorical variables in the upcoming video."
   ]
  },
  {
   "cell_type": "code",
   "execution_count": null,
   "metadata": {},
   "outputs": [],
   "source": [
    "YouTubeVideo(\"EHRg9ojcVRQ\")"
   ]
  },
  {
   "cell_type": "markdown",
   "metadata": {},
   "source": [
    "<a id='section5'></a>\n",
    "## 5. Distributions\n",
    "\n",
    "You'll learn how to visualize and interpret the distributions of categorical variables in the following videos."
   ]
  },
  {
   "cell_type": "code",
   "execution_count": null,
   "metadata": {},
   "outputs": [],
   "source": [
    "YouTubeVideo(\"ME3LjCrvxik\")"
   ]
  },
  {
   "cell_type": "code",
   "execution_count": null,
   "metadata": {},
   "outputs": [],
   "source": [
    "YouTubeVideo(\"hMvuoBFWC1o\")"
   ]
  },
  {
   "cell_type": "markdown",
   "metadata": {},
   "source": [
    "The Bay Area Bike Share service published a dataset describing every one of their bicycle rentals from September 2014 to August 2015.\n",
    "There were a 354,152 rentals in all. Plot the number of rides starting at each station.\n",
    "\n",
    "*Hint*: Each row corresponds to a bike rental. The `Start Station` variable indicates the rentals' starting stations."
   ]
  },
  {
   "cell_type": "code",
   "execution_count": null,
   "metadata": {},
   "outputs": [],
   "source": [
    "# load the bike trips data\n",
    "bike_trips = Table.read_table('https://www.inferentialthinking.com/data/trip.csv')"
   ]
  },
  {
   "cell_type": "code",
   "execution_count": null,
   "metadata": {},
   "outputs": [],
   "source": [
    "# plot the distribution of bike rides\n",
    "..."
   ]
  },
  {
   "cell_type": "markdown",
   "metadata": {},
   "source": [
    "<details>\n",
    "    <summary>Solution</summary>\n",
    "    bike_trips.group(\"Start Station\").sort(1, descending = True).barh(0)\n",
    "</details>\n",
    "<br>"
   ]
  },
  {
   "cell_type": "markdown",
   "metadata": {},
   "source": [
    "<a id=\"section6\"></a>\n",
    "## 6. Check for Understanding\n",
    "\n",
    "For the following questions, consider the `temperatures` table:\n",
    "\n",
    "| Date       | min_temp | max_temp | temp_diff | forecast |\n",
    "|------------|----------|----------|-----------|----------|\n",
    "| 2020-05-01 | 44       | 68       | 24        | 0        |\n",
    "| 2020-05-02 | 49       | 72       | 23        | 2        | \n",
    "| 2020-05-03 | 45       | 67       | 22        | 1        |\n",
    "| 2020-05-04 | 47       | 66       | 19        | 0        |\n",
    "| 2020-05-05 | 48       | 64       | 16        | 1        |\n",
    "| 2020-05-06 | 42       | 62       | 20        | 1        |\n",
    "| 2020-05-07 | 50       | 65       | 15        | 1        |\n",
    "\n",
    "**A. What kind of plot should be used to visualize the relationship between *Date* and *temp_diff*?** \n",
    "\n",
    "<details>\n",
    "    <summary>Solution</summary>\n",
    "    A line graph, since we wish to visualize a chronological trend. \n",
    "</details>\n",
    "<br>\n",
    "\n",
    "**B. What kind of plot should be used to visualize the relationship between *min_temp* and *max_temp*?** \n",
    "\n",
    "<details>\n",
    "    <summary>Solution</summary>\n",
    "    A scatter plot, since we wish to visualize the relationship between two numerical variables.\n",
    "</details>\n",
    "<br>\n",
    "\n",
    "**C. Suppose we created a scatter plot of *max_temp* and *temp_diff*. What would each point in the plot represent?**\n",
    "\n",
    "<details>\n",
    "    <summary>Solution</summary>\n",
    "    Each point in this scatter plot corresponds to an observation in the temperatures table. Each point therefore\n",
    "    corresponds to a date, and provides information on that date's <i>max_temp</i> and <i>temp_diff</i>.\n",
    "</details>\n",
    "<br>\n",
    "\n",
    "**D. The predicted forcast of each *Date* was recorded in the *forecast* column: 0 corresponds to sunny, 1 to cloudy, and 2 to rainy.\n",
    "Is *forecast* a numerical or a categorical variable?**\n",
    "\n",
    "<details>\n",
    "    <summary>Solution</summary>\n",
    "    Although <i>forecast</i> is recorded as a number, it's a categorical variable. It doesn't make sense to perform arithmetic operations on these values.\n",
    "</details>\n",
    "<br>"
   ]
  }
 ],
 "metadata": {
  "kernelspec": {
   "display_name": "Python 3",
   "language": "python",
   "name": "python3"
  },
  "language_info": {
   "codemirror_mode": {
    "name": "ipython",
    "version": 3
   },
   "file_extension": ".py",
   "mimetype": "text/x-python",
   "name": "python",
   "nbconvert_exporter": "python",
   "pygments_lexer": "ipython3",
   "version": "3.8.2"
  }
 },
 "nbformat": 4,
 "nbformat_minor": 4
}
