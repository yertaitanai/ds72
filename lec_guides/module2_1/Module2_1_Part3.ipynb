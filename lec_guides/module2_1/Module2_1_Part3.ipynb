{
 "cells": [
  {
   "cell_type": "code",
   "execution_count": null,
   "metadata": {},
   "outputs": [],
   "source": [
    "# Run cells by clicking on them and hitting CTRL + ENTER on your keyboard\n",
    "from IPython.display import YouTubeVideo\n",
    "from datascience import *\n",
    "import numpy as np\n",
    "%matplotlib inline"
   ]
  },
  {
   "cell_type": "markdown",
   "metadata": {},
   "source": [
    "# Module 2.1 Part 3: Overlaid Histograms\n",
    "\n",
    "In this (short) lecture guide, you'll learn how to extend the functionality of histograms.\n",
    "\n",
    "This notebook is made up of 2 videos, with a total runtime of 8:54.\n",
    "\n",
    "1. [Comparing Histograms](#section1) *1 video, total runtime 6:07*\n",
    "2. [Check for Understanding](#section2) *1 video, total runtime 2:47*\n",
    "\n",
    "Textbook readings: [Chapter 7.3: Visualization, Overlaid Graphs](https://www.inferentialthinking.com/chapters/07/3/Overlaid_Graphs.html)"
   ]
  },
  {
   "cell_type": "markdown",
   "metadata": {},
   "source": [
    "<a id='section1'></a>\n",
    "\n",
    "## 1. Comparing Histograms\n",
    "\n",
    "As you'll see later in the course, we often wish to compare the distributions of a numerical variable from two\n",
    "or more distinct populations. Overlaying plots allows us to visualize such distributional differences. In the following\n",
    "video, you'll see how to do this with histograms."
   ]
  },
  {
   "cell_type": "code",
   "execution_count": null,
   "metadata": {},
   "outputs": [],
   "source": [
    "YouTubeVideo(\"0ImGO0BG630\")"
   ]
  },
  {
   "cell_type": "markdown",
   "metadata": {},
   "source": [
    "Consider the `baby` table that is loaded in the cell below. This table consists of 1,174 mother-baby pairs. It provides information\n",
    "on each baby's birth weight (in ounces), whether the mother was a smoker, as well as a slew of other variables. Visualize the\n",
    "distribution of birth weights, stratified by maternal smoking status. What do you expect to find? What does this visualization suggest?"
   ]
  },
  {
   "cell_type": "code",
   "execution_count": null,
   "metadata": {},
   "outputs": [],
   "source": [
    "# load the baby table\n",
    "baby = Table.read_table('https://www.inferentialthinking.com/data/baby.csv')\n",
    "baby"
   ]
  },
  {
   "cell_type": "code",
   "execution_count": null,
   "metadata": {},
   "outputs": [],
   "source": [
    "# generate an overlaid histogram\n",
    "baby.hist(...)"
   ]
  },
  {
   "cell_type": "markdown",
   "metadata": {},
   "source": [
    "<details>\n",
    "    <summary>Solution</summary>\n",
    "    <b>Code</b>: <br>\n",
    "    # generate an overlaid histogram <br>\n",
    "    baby.hist(\"Birth Weight\", group = \"Maternal Smoker\", unit = \"Oz\") <br>\n",
    "    <b>Interpretation</b>: <br>\n",
    "    The overlaid histogram suggests that mothers who smoke tend to have babies with lower birth weights. In the coming week's, you'll learn\n",
    "    a more principled approach for evaluating the significance of these distributional differences.\n",
    "</details>"
   ]
  },
  {
   "cell_type": "markdown",
   "metadata": {},
   "source": [
    "<a id='section2'></a>\n",
    "\n",
    "## 2. Check for Understanding\n",
    "\n",
    "In the next video, you'll evaluate your ability to interpret overlaid histograms."
   ]
  },
  {
   "cell_type": "code",
   "execution_count": null,
   "metadata": {},
   "outputs": [],
   "source": [
    "YouTubeVideo(\"Ag2929CN3MA\")"
   ]
  }
 ],
 "metadata": {
  "kernelspec": {
   "display_name": "Python 3",
   "language": "python",
   "name": "python3"
  },
  "language_info": {
   "codemirror_mode": {
    "name": "ipython",
    "version": 3
   },
   "file_extension": ".py",
   "mimetype": "text/x-python",
   "name": "python",
   "nbconvert_exporter": "python",
   "pygments_lexer": "ipython3",
   "version": "3.8.2"
  }
 },
 "nbformat": 4,
 "nbformat_minor": 4
}
