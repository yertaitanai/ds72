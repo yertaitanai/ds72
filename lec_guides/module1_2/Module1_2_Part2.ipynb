{
 "cells": [
  {
   "cell_type": "code",
   "execution_count": null,
   "metadata": {},
   "outputs": [],
   "source": [
    "# Run this cell by hitting CTRL + ENTER\n",
    "from IPython.display import YouTubeVideo\n",
    "from datascience import *"
   ]
  },
  {
   "cell_type": "markdown",
   "metadata": {},
   "source": [
    "# Module 1.2 Part 2: Arrays and Columns\n",
    "\n",
    "In this notebook, you'll learn how to use arrays to store multiple values that can be manipulated together. You'll also learn how to work with the values of columns as arrays.\n",
    "\n",
    "This notebook includes 2 videos with a total runtime of 11:17.\n",
    "\n",
    "- [Arrays](#section1) *1 video, total runtime 3:21*\n",
    "- [Columns](#section2) *1 video, total runtime 7:56*\n",
    "- [Check for Understanding](#section3)\n",
    "\n",
    "\n",
    "Textbook Readings:\n",
    "- [Chapter 5: Sequences](https://www.inferentialthinking.com/chapters/05/Sequences.html)"
   ]
  },
  {
   "cell_type": "markdown",
   "metadata": {},
   "source": [
    "<a id='section1'></a>\n",
    "## 1. Arrays\n",
    "\n",
    "In this video, you'll learn about how to create arrays and use arrays in calculations."
   ]
  },
  {
   "cell_type": "code",
   "execution_count": null,
   "metadata": {},
   "outputs": [],
   "source": [
    "YouTubeVideo(\"q6cQBGP9wsQ\")"
   ]
  },
  {
   "cell_type": "markdown",
   "metadata": {},
   "source": [
    "For the following exercises, consider the following information about the three species of elephants.\n",
    "- The average weight of an African bush elephant is 12,000 pounds\n",
    "- The average weight of an Asian elephant is 8,800 pounds\n",
    "- The average weight of an African forest elephant is 6,000 pounds"
   ]
  },
  {
   "cell_type": "markdown",
   "metadata": {},
   "source": [
    "Assign `weight_lbs` to an array containing the average weight of each species of elephant in pounds."
   ]
  },
  {
   "cell_type": "code",
   "execution_count": null,
   "metadata": {},
   "outputs": [],
   "source": [
    "weight_lbs = ..."
   ]
  },
  {
   "cell_type": "markdown",
   "metadata": {},
   "source": [
    "<details>\n",
    "    <summary>Solution</summary>\n",
    "    weight_lbs = make_array(12000, 8800, 6000)\n",
    "</details>"
   ]
  },
  {
   "cell_type": "markdown",
   "metadata": {},
   "source": [
    "Using `weight_lbs`, assign `weight_kgs` to an array containing the average weight of each species of elephant in kilograms. There are approximately 2.205 pounds in one kilogram."
   ]
  },
  {
   "cell_type": "code",
   "execution_count": null,
   "metadata": {},
   "outputs": [],
   "source": [
    "weight_kgs = ..."
   ]
  },
  {
   "cell_type": "markdown",
   "metadata": {},
   "source": [
    "<details>\n",
    "    <summary>Solution</summary>\n",
    "    weight_kgs = weight_lbs / 2.205\n",
    "</details>"
   ]
  },
  {
   "cell_type": "markdown",
   "metadata": {},
   "source": [
    "<a id='section2'></a>\n",
    "## 2. Columns\n",
    "\n",
    "In this video, you'll learn about how to extract columns of a table into an array. You'll also learn how to complete calculations involving columns and how to add new columns to tables."
   ]
  },
  {
   "cell_type": "code",
   "execution_count": null,
   "metadata": {},
   "outputs": [],
   "source": [
    "YouTubeVideo(\"n8R4pZQDl_8\")"
   ]
  },
  {
   "cell_type": "markdown",
   "metadata": {},
   "source": [
    "Run the cell below to load SAT data from 2014."
   ]
  },
  {
   "cell_type": "code",
   "execution_count": null,
   "metadata": {},
   "outputs": [],
   "source": [
    "sat2014 = Table.read_table('https://www.inferentialthinking.com/data/sat2014.csv')\n",
    "sat2014"
   ]
  },
  {
   "cell_type": "markdown",
   "metadata": {},
   "source": [
    "Set `combined_scores` to an array of all combined SAT scores from the table `sat2014`"
   ]
  },
  {
   "cell_type": "code",
   "execution_count": null,
   "metadata": {},
   "outputs": [],
   "source": [
    "combined_scores = ...\n",
    "combined_scores"
   ]
  },
  {
   "cell_type": "markdown",
   "metadata": {},
   "source": [
    "<details>\n",
    "    <summary>Solution</summary>\n",
    "    combined_scores = sat2014.column(\"Combined\")\n",
    "</details>"
   ]
  },
  {
   "cell_type": "markdown",
   "metadata": {},
   "source": [
    "Set `states_writing_sorted` to an array of states, ordered by their writing scores from largest to smallest."
   ]
  },
  {
   "cell_type": "code",
   "execution_count": null,
   "metadata": {},
   "outputs": [],
   "source": [
    "states_writing_sorted = ...\n",
    "states_writing_sorted"
   ]
  },
  {
   "cell_type": "markdown",
   "metadata": {},
   "source": [
    "<details>\n",
    "    <summary>Solution</summary>\n",
    "    states_writing_sorted = sat2014.sort(\"Writing\", descending = True).column(\"State\")\n",
    "</details>"
   ]
  },
  {
   "cell_type": "markdown",
   "metadata": {},
   "source": [
    "Add a column `math:writing ratio` to the table `sat2014` that contains the ratio of math scores to writing scores for each state."
   ]
  },
  {
   "cell_type": "code",
   "execution_count": null,
   "metadata": {},
   "outputs": [],
   "source": [
    "..."
   ]
  },
  {
   "cell_type": "markdown",
   "metadata": {},
   "source": [
    "<details>\n",
    "    <summary>Solution</summary>\n",
    "    sat2014.with_column(\"math:writing ratio\", sat2014.column(\"Math\")/sat2014.column(\"Writing\"))\n",
    "</details>"
   ]
  },
  {
   "cell_type": "markdown",
   "metadata": {},
   "source": [
    "<a id='section3'></a>\n",
    "## 3. Check for Understanding\n",
    "\n",
    "**A. Consider the following table `vending_machine`**\n",
    "\n",
    "| Item  | Price |\n",
    "|-------|-------|\n",
    "| Chips | 1.50  |\n",
    "| Candy | 1.25  |\n",
    "| Water | 1     |\n",
    "\n",
    "**Will this line of code run without error?**\n",
    "\n",
    "``\n",
    "vending_machine.with_column(\"Sugar Content\", make_array(5, 18, 0, 4))\n",
    "``\n",
    "\n",
    "<details>\n",
    "    <summary>Solution</summary>\n",
    "    <b>No</b>, this line of code will error since the column being added has more items than the number of rows in the original table.\n",
    "</details>\n",
    "\n",
    "**B. Which of the options is the output of the following line of code?**\n",
    "\n",
    "``\n",
    "make_array(2, 4, 5) + make_array(24, 1, 6) * 2\n",
    "``\n",
    "\n",
    "1. 84\n",
    "2. 73\n",
    "3. array([50, 6, 17])\n",
    "4. array([52, 10, 22])\n",
    "\n",
    "<details>\n",
    "    <summary>Solution</summary>\n",
    "    <b>3. array([50, 6, 17])</b>\n",
    "</details>"
   ]
  }
 ],
 "metadata": {
  "kernelspec": {
   "display_name": "Python 3",
   "language": "python",
   "name": "python3"
  },
  "language_info": {
   "codemirror_mode": {
    "name": "ipython",
    "version": 3
   },
   "file_extension": ".py",
   "mimetype": "text/x-python",
   "name": "python",
   "nbconvert_exporter": "python",
   "pygments_lexer": "ipython3",
   "version": "3.7.4"
  }
 },
 "nbformat": 4,
 "nbformat_minor": 4
}
