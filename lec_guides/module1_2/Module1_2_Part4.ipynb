{
 "cells": [
  {
   "cell_type": "code",
   "execution_count": null,
   "metadata": {},
   "outputs": [],
   "source": [
    "# Run this cell by hitting CTRL + ENTER\n",
    "from IPython.display import YouTubeVideo\n",
    "from datascience import *"
   ]
  },
  {
   "cell_type": "markdown",
   "metadata": {},
   "source": [
    "# Module 1.2 Part 4: The Census\n",
    "\n",
    "In this notebook, you'll use what you've learned about tables to run through an example using census data.\n",
    "\n",
    "This notebook includes 4 videos with a total runtime of 23:35.\n",
    "\n",
    "- [Census](#section1) *1 video, total runtime 6:58*\n",
    "- [Column Arithmetic](#section2) *1 video, total runtime 3:22*\n",
    "- [Accessing Values](#section3) *1 video, total runtime 6:03*\n",
    "- [Males and Females](#section4) *1 video, total runtime 7:12*\n",
    "\n",
    "Textbook Readings:\n",
    "- [Chapter 6: Tables](https://www.inferentialthinking.com/chapters/06/Tables.html)"
   ]
  },
  {
   "cell_type": "markdown",
   "metadata": {},
   "source": [
    "<a id='section1'></a>\n",
    "## 1. Census\n",
    "\n",
    "In this video, you'll be introduced to the US Census data and learn how to use `select` to extract relevant information from the dataset."
   ]
  },
  {
   "cell_type": "code",
   "execution_count": null,
   "metadata": {},
   "outputs": [],
   "source": [
    "YouTubeVideo(\"b29OrPn5ofw\")"
   ]
  },
  {
   "cell_type": "markdown",
   "metadata": {},
   "source": [
    "<a id='section2'></a>\n",
    "## 2. Column Arithmetic\n",
    "\n",
    "In this video, you'll learn how to use column arithmetic to process census data to gain meaningful insights."
   ]
  },
  {
   "cell_type": "code",
   "execution_count": null,
   "metadata": {},
   "outputs": [],
   "source": [
    "YouTubeVideo(\"4SLry5hYcmE\")"
   ]
  },
  {
   "cell_type": "markdown",
   "metadata": {},
   "source": [
    "<a id='section3'></a>\n",
    "## 3. Accessing Values\n",
    "\n",
    "In this video, you'll learn how to use `sort`, `row`, `column`, and `item` to extract values of interest. These methods will allow you to make sophisticated calculations with the census data."
   ]
  },
  {
   "cell_type": "code",
   "execution_count": null,
   "metadata": {},
   "outputs": [],
   "source": [
    "YouTubeVideo(\"EOrAk4r9kck\")"
   ]
  },
  {
   "cell_type": "markdown",
   "metadata": {},
   "source": [
    "<a id='section1'></a>\n",
    "## 4. Males and Females\n",
    "\n",
    "In this video, you'll see how table methods can be used to make comparisons in the data. You'll learn how to compare differences in population trends between males and females."
   ]
  },
  {
   "cell_type": "code",
   "execution_count": null,
   "metadata": {},
   "outputs": [],
   "source": [
    "YouTubeVideo(\"SAJavz58uHk\")"
   ]
  }
 ],
 "metadata": {
  "kernelspec": {
   "display_name": "Python 3",
   "language": "python",
   "name": "python3"
  },
  "language_info": {
   "codemirror_mode": {
    "name": "ipython",
    "version": 3
   },
   "file_extension": ".py",
   "mimetype": "text/x-python",
   "name": "python",
   "nbconvert_exporter": "python",
   "pygments_lexer": "ipython3",
   "version": "3.7.4"
  }
 },
 "nbformat": 4,
 "nbformat_minor": 4
}
