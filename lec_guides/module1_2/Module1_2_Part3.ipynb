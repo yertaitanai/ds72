{
 "cells": [
  {
   "cell_type": "code",
   "execution_count": 1,
   "metadata": {},
   "outputs": [],
   "source": [
    "# Run this cell by hitting CTRL + ENTER\n",
    "from IPython.display import YouTubeVideo\n",
    "from datascience import *"
   ]
  },
  {
   "cell_type": "markdown",
   "metadata": {},
   "source": [
    "# Module 1.2 Part 3: Building Tables\n",
    "\n",
    "In this notebook, you'll learn how to create tables to store data. You'll also learn more table methods that you can use to process data.\n",
    "\n",
    "This notebook includes 4 videos with a total runtime of 28:30.\n",
    "\n",
    "- [Building Tables](#section1) *1 video, total runtime 5:53*\n",
    "- [Lists](#section2) *1 video, total runtime 8:07*\n",
    "- [Take](#section3) *1 video, total runtime 3:49*\n",
    "- [Where](#section4) *1 video, total runtime 10:41*\n",
    "- [Check for Understanding](#section5)\n",
    "\n",
    "\n",
    "Textbook Readings:\n",
    "- [Chapter 6: Tables](https://www.inferentialthinking.com/chapters/06/Tables.html)"
   ]
  },
  {
   "cell_type": "markdown",
   "metadata": {},
   "source": [
    "<a id='section1'></a>\n",
    "## 1. Building Tables\n",
    "\n",
    "In this video, you'll learn about how to create tables and modify columns. "
   ]
  },
  {
   "cell_type": "code",
   "execution_count": null,
   "metadata": {},
   "outputs": [],
   "source": [
    "YouTubeVideo(\"Obg7GqjxZ-Q\")"
   ]
  },
  {
   "cell_type": "markdown",
   "metadata": {},
   "source": [
    "Create a table `professors` with one column called `name`, populated with the names of three Berkeley professors."
   ]
  },
  {
   "cell_type": "code",
   "execution_count": null,
   "metadata": {},
   "outputs": [],
   "source": [
    "professors = ...\n",
    "professors"
   ]
  },
  {
   "cell_type": "markdown",
   "metadata": {},
   "source": [
    "<details>\n",
    "    <summary>Example Solution</summary>\n",
    "    professors = Table().with_column(\"name\", make_array(\"David Wagner\", \"Alex Filippenko\", \"Robert Reich\"))\n",
    "</details>"
   ]
  },
  {
   "cell_type": "markdown",
   "metadata": {},
   "source": [
    "Add a column to your table `professors` called `department`, which describes the department that each professors teaches for."
   ]
  },
  {
   "cell_type": "code",
   "execution_count": null,
   "metadata": {},
   "outputs": [],
   "source": [
    "professors = ...\n",
    "professors"
   ]
  },
  {
   "cell_type": "markdown",
   "metadata": {},
   "source": [
    "<details>\n",
    "    <summary>Example Solution</summary>\n",
    "    professors = professors.with_column(\"department\", make_array(\"EECS\", \"Astronomy\", \"Public Policy\"))\n",
    "</details>"
   ]
  },
  {
   "cell_type": "markdown",
   "metadata": {},
   "source": [
    "<a id='section2'></a>\n",
    "## 2. Lists\n",
    "\n",
    "In this video, you'll learn about lists, another type of sequence that can hold items of different types. You'll go over how to create lists and how to use them to add rows to tables. "
   ]
  },
  {
   "cell_type": "code",
   "execution_count": null,
   "metadata": {},
   "outputs": [],
   "source": [
    "YouTubeVideo(\"KOcIKkXQvl0\")"
   ]
  },
  {
   "cell_type": "markdown",
   "metadata": {},
   "source": [
    "Use a list to add a new row to your table `professors`."
   ]
  },
  {
   "cell_type": "code",
   "execution_count": null,
   "metadata": {},
   "outputs": [],
   "source": [
    "professors = ...\n",
    "professors"
   ]
  },
  {
   "cell_type": "markdown",
   "metadata": {},
   "source": [
    "<details>\n",
    "    <summary>Example Solution</summary>\n",
    "    professors = professors.with_row([\"Pete Marsden\", \"Chemistry\"])\n",
    "</details>"
   ]
  },
  {
   "cell_type": "markdown",
   "metadata": {},
   "source": [
    "<a id='section3'></a>\n",
    "## 3. Take\n",
    "\n",
    "In this video, you'll learn how to use the table method `take` to select specific rows of a table based on their positions."
   ]
  },
  {
   "cell_type": "code",
   "execution_count": null,
   "metadata": {},
   "outputs": [],
   "source": [
    "YouTubeVideo(\"TlHeF21OSAc\")"
   ]
  },
  {
   "cell_type": "markdown",
   "metadata": {},
   "source": [
    "Use `take` to select the second and third row of your `professors` table"
   ]
  },
  {
   "cell_type": "code",
   "execution_count": null,
   "metadata": {},
   "outputs": [],
   "source": [
    "..."
   ]
  },
  {
   "cell_type": "markdown",
   "metadata": {},
   "source": [
    "<details>\n",
    "    <summary>Solution</summary>\n",
    "    professors.take(1, 2)\n",
    "</details>"
   ]
  },
  {
   "cell_type": "markdown",
   "metadata": {},
   "source": [
    "<a id='section4'></a>\n",
    "## 4. Where\n",
    "\n",
    "In this video, you'll learn how to use the table method `where` to select rows of a table based on a specified condition."
   ]
  },
  {
   "cell_type": "code",
   "execution_count": null,
   "metadata": {},
   "outputs": [],
   "source": [
    "YouTubeVideo(\"xCk4CxHL2ec\")"
   ]
  },
  {
   "cell_type": "markdown",
   "metadata": {},
   "source": [
    "Run the cell below to create a column `name_length` in `professors`, that contains the number of characters in each professor's name. "
   ]
  },
  {
   "cell_type": "code",
   "execution_count": null,
   "metadata": {},
   "outputs": [],
   "source": [
    "# We'll learn how to use .apply() in a few videos!\n",
    "professors = professors.with_column(\"name_length\", professors.apply(len, \"name\"))\n",
    "professors"
   ]
  },
  {
   "cell_type": "markdown",
   "metadata": {},
   "source": [
    "Return a copy of your table `professors` that only contains rows where the professor's name is longer than 10 characters long."
   ]
  },
  {
   "cell_type": "code",
   "execution_count": null,
   "metadata": {},
   "outputs": [],
   "source": [
    "..."
   ]
  },
  {
   "cell_type": "markdown",
   "metadata": {},
   "source": [
    "<details>\n",
    "    <summary>Solution</summary>\n",
    "    professors.where(\"name_length\", are.above(10))\n",
    "</details>"
   ]
  },
  {
   "cell_type": "markdown",
   "metadata": {},
   "source": [
    "<a id='section5'></a>\n",
    "## 5. Check for Understanding\n",
    "\n",
    "For the following questions, consider the following table `temperatures`\n",
    "\n",
    "| Date       | min_temp | max_temp |\n",
    "|------------|----------|----------|\n",
    "| 2020-05-01 | 44       | 68       |\n",
    "| 2020-05-02 | 49       | 72       |\n",
    "| 2020-05-03 | 45       | 67       |\n",
    "| 2020-05-04 | 47       | 66       |\n",
    "| 2020-05-05 | 48       | 64       |\n",
    "| 2020-05-06 | 42       | 62       |\n",
    "| 2020-05-07 | 50       | 65       |\n",
    "\n",
    "**A. What is the result of the following code?**\n",
    "\n",
    "```\n",
    "temperatures.where(min_temp, are.below(47)).num_rows\n",
    "```\n",
    "\n",
    "<details>\n",
    "    <summary>Solution</summary>\n",
    "    3\n",
    "</details>\n",
    "<br>\n",
    "\n",
    "**B. Which line(s) of code produces this table?**\n",
    "\n",
    "| Date       | min_temp | max_temp | temp_diff |\n",
    "|------------|----------|----------|-----------|\n",
    "| 2020-05-01 | 44       | 68       | 24        |\n",
    "| 2020-05-02 | 49       | 72       | 23        |\n",
    "| 2020-05-03 | 45       | 67       | 22        |\n",
    "| 2020-05-04 | 47       | 66       | 19        |\n",
    "| 2020-05-05 | 48       | 64       | 16        |\n",
    "| 2020-05-06 | 42       | 62       | 20        |\n",
    "| 2020-05-07 | 50       | 65       | 15        |\n",
    "\n",
    "1. `temperatures.with_column(\"temp_diff\", max_temp - min_temp)`\n",
    "2. `temperatures.with_column(\"temp_diff\", abs(temperatures.with_column(min_temp) - temperatures.with_column(max_temp)))`\n",
    "3. `temperatures.with_column(\"temp_diff\", temperatures.column(\"max_temp\") - temperatures.column(\"min_temp\"))`\n",
    "\n",
    "<details>\n",
    "    <summary>Solution</summary>\n",
    "    3. `temperatures.with_column(\"temp_diff\", temperatures.column(\"max_temp\") - temperatures.column(\"min_temp\"))`\n",
    "</details>\n",
    "<br>\n"
   ]
  }
 ],
 "metadata": {
  "kernelspec": {
   "display_name": "Python 3",
   "language": "python",
   "name": "python3"
  },
  "language_info": {
   "codemirror_mode": {
    "name": "ipython",
    "version": 3
   },
   "file_extension": ".py",
   "mimetype": "text/x-python",
   "name": "python",
   "nbconvert_exporter": "python",
   "pygments_lexer": "ipython3",
   "version": "3.7.4"
  }
 },
 "nbformat": 4,
 "nbformat_minor": 4
}
