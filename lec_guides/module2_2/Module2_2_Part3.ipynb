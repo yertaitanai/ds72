{
 "cells": [
  {
   "cell_type": "code",
   "execution_count": null,
   "metadata": {},
   "outputs": [],
   "source": [
    "# Run cells by clicking on them and hitting CTRL + ENTER on your keyboard\n",
    "from IPython.display import YouTubeVideo\n",
    "from datascience import *\n",
    "import numpy as np\n",
    "%matplotlib inline"
   ]
  },
  {
   "cell_type": "markdown",
   "metadata": {},
   "source": [
    "# Module 2.2 Part 3: Joins\n",
    "\n",
    "The videos in this lecture guide will teach you how to combine data from multiple tables.\n",
    "\n",
    "4 videos make up this notebook, for a total run time of 25:05.\n",
    "\n",
    "1. [Joins](#section1) *1 video, total runtime 10:27*\n",
    "2. [The Whole Picture](#section2) *2 videos, total runtime 14:38*\n",
    "3. [Check for Understanding](#section3)\n",
    "4. (Optional) [Visualizing Spatial Data](#section4) *1 video, total runtime 9:35*\n",
    "\n",
    "Textbook readings: [Chapter 8: Functions and Tables](https://www.inferentialthinking.com/chapters/08/Functions_and_Tables.html)"
   ]
  },
  {
   "cell_type": "markdown",
   "metadata": {},
   "source": [
    "<a id='section1'></a>\n",
    "## 1. Joins\n",
    "\n",
    "When starting a data analysis, it's unlikely that you'll find a table containing all of the information you need. Instead,\n",
    "you'll need to combine data from multiple sources. This can be accomplished with the `join` method, which is discussed in the next video."
   ]
  },
  {
   "cell_type": "code",
   "execution_count": null,
   "metadata": {},
   "outputs": [],
   "source": [
    "YouTubeVideo('2s0yP3wp3rI')"
   ]
  },
  {
   "cell_type": "markdown",
   "metadata": {},
   "source": [
    "<a id='section2'></a>\n",
    "## 2. The Whole Picture\n",
    "\n",
    "Now that you know how to wrangle table data with `group`, `pivot`, and `join`, we'll review what you've learned\n",
    "through a series of examples. If you'd like to follow along, the tables seen in these videos are loaded in the code\n",
    "cell below lecture 11.3."
   ]
  },
  {
   "cell_type": "code",
   "execution_count": null,
   "metadata": {},
   "outputs": [],
   "source": [
    "YouTubeVideo('-kJEI52bIUM')"
   ]
  },
  {
   "cell_type": "code",
   "execution_count": null,
   "metadata": {},
   "outputs": [],
   "source": [
    "YouTubeVideo('KErtBTDpCQo')"
   ]
  },
  {
   "cell_type": "code",
   "execution_count": null,
   "metadata": {},
   "outputs": [],
   "source": [
    "# load the data used in video 11.2\n",
    "trips = Table.read_table('https://www.inferentialthinking.com/data/trip.csv')\n",
    "commute = trips.where('Duration', are.below(1800))\n",
    "\n",
    "# prepare the data seen in video 11.3\n",
    "duration = trips.select(3, 6, 1)"
   ]
  },
  {
   "cell_type": "code",
   "execution_count": null,
   "metadata": {},
   "outputs": [],
   "source": [
    "# scratchwork goes here!\n",
    "..."
   ]
  },
  {
   "cell_type": "markdown",
   "metadata": {},
   "source": [
    "<a id='section3'></a>\n",
    "## 3. Check for Understanding"
   ]
  },
  {
   "cell_type": "markdown",
   "metadata": {},
   "source": [
    "**Consider the `percent_covid19` and the `percent_elderly` tables in the code cell below. The `percent_covid19` table\n",
    "lists a few cities, and the proportion of their population who have or had COVID-19. The `percent_elderly`\n",
    "table also lists a couple of cities and provides the proportion of their population over the age of 65.**\n",
    "\n",
    "*Note: These values are not accurate!*"
   ]
  },
  {
   "cell_type": "code",
   "execution_count": null,
   "metadata": {},
   "outputs": [],
   "source": [
    "percent_covid19 = Table().with_columns(\n",
    "    'City', make_array('San Jose', 'San Francisco', 'Berkeley', 'Richmond', 'Oakland'),\n",
    "    'COVID-19 %', make_array(1.1, 1.2, 0.6, 0.9, 1.3)\n",
    ")\n",
    "percent_elderly = Table().with_columns(\n",
    "    'city', make_array('San Jose', 'San Francisco', 'Berkeley', 'Richmond', 'Palo Alto'),\n",
    "    'elderly %', make_array(24.0, 23.4, 20.6, 22.3, 19.9)\n",
    ")"
   ]
  },
  {
   "cell_type": "markdown",
   "metadata": {},
   "source": [
    "**A. Join these tables in the following code cell.**"
   ]
  },
  {
   "cell_type": "code",
   "execution_count": null,
   "metadata": {},
   "outputs": [],
   "source": [
    "..."
   ]
  },
  {
   "cell_type": "markdown",
   "metadata": {},
   "source": [
    "<details>\n",
    "    <summary>Solution</summary>\n",
    "    percent_covid19.join('City', percent_elderly, 'city')\n",
    "    <br>\n",
    "    <b>OR</b>\n",
    "    <br>\n",
    "    percent_elderly.join('city', percent_covid19, 'City')\n",
    "</details>\n",
    "<br>"
   ]
  },
  {
   "cell_type": "markdown",
   "metadata": {},
   "source": [
    "**B. Are any data lost when joining the** `percent_covid19` **and** `percent_elderly` **tables? If so, why?**\n",
    "\n",
    "<details>\n",
    "    <summary>Solution</summary>\n",
    "    Yes, the data on Oakland and Palo Alto are lost. This is because data on Oakland is only given\n",
    "    in the percent_covid19 table, and data on Palo Alto is only given in the percent_elderly table.\n",
    "    Only the cities contained in both tables are preserved by the join operation.\n",
    "</details>\n",
    "<br>"
   ]
  },
  {
   "cell_type": "markdown",
   "metadata": {},
   "source": [
    "<a id='section4'></a>\n",
    "## 4. Visualizing Spatial Data (Optional)\n",
    "\n",
    "Here's a helpful resource for visualizing spatial data. The data is loaded in the cell below the video if you'd\n",
    "like to follow along."
   ]
  },
  {
   "cell_type": "code",
   "execution_count": null,
   "metadata": {},
   "outputs": [],
   "source": [
    "YouTubeVideo('NmvTEc7DjLk')"
   ]
  },
  {
   "cell_type": "code",
   "execution_count": null,
   "metadata": {},
   "outputs": [],
   "source": [
    "# load the stations table\n",
    "stations = Table.read_table('https://www.inferentialthinking.com/data/station.csv')\n",
    "\n",
    "# follow along below\n",
    "..."
   ]
  }
 ],
 "metadata": {
  "kernelspec": {
   "display_name": "Python 3",
   "language": "python",
   "name": "python3"
  },
  "language_info": {
   "codemirror_mode": {
    "name": "ipython",
    "version": 3
   },
   "file_extension": ".py",
   "mimetype": "text/x-python",
   "name": "python",
   "nbconvert_exporter": "python",
   "pygments_lexer": "ipython3",
   "version": "3.8.2"
  }
 },
 "nbformat": 4,
 "nbformat_minor": 4
}
