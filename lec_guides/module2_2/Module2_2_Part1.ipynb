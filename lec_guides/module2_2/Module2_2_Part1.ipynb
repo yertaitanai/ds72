{
 "cells": [
  {
   "cell_type": "code",
   "execution_count": null,
   "metadata": {},
   "outputs": [],
   "source": [
    "# Run cells by clicking on them and hitting CTRL + ENTER on your keyboard\n",
    "from IPython.display import YouTubeVideo\n",
    "from datascience import *\n",
    "import numpy as np"
   ]
  },
  {
   "cell_type": "markdown",
   "metadata": {},
   "source": [
    "# Module 2.2 Part 1: Functions\n",
    "\n",
    "This lecture guide introduces functions. You've been using functions throughout the three previous modules.\n",
    "These videos teach you how to create your own. You'll also learn how to apply them to tables.\n",
    "\n",
    "4 videos make up this notebook, for a total run time of 27:32.\n",
    "\n",
    "1. [Defining Functions](#section1) *2 videos, total runtime 13:17*\n",
    "2. [Apply](#section2) *2 videos, total runtime 14:15*\n",
    "2. [Check for Understanding](#section3)\n",
    "\n",
    "Textbook readings: [Chapter 8: Functions and Tables](https://www.inferentialthinking.com/chapters/08/Functions_and_Tables.html)"
   ]
  },
  {
   "cell_type": "markdown",
   "metadata": {},
   "source": [
    "<a id='section1'></a>\n",
    "## 1. Defining Functions\n",
    "\n",
    "In the following videos, you'll learn how to define and use your own functions."
   ]
  },
  {
   "cell_type": "code",
   "execution_count": null,
   "metadata": {},
   "outputs": [],
   "source": [
    "YouTubeVideo(\"DEEsmyz3oRo\")"
   ]
  },
  {
   "cell_type": "code",
   "execution_count": null,
   "metadata": {},
   "outputs": [],
   "source": [
    "YouTubeVideo(\"4dat6zBtddM\")"
   ]
  },
  {
   "cell_type": "markdown",
   "metadata": {},
   "source": [
    "<a id='section2'></a>\n",
    "## 2. Apply\n",
    "\n",
    "Functions seem nifty, but how can we apply them data stored in tables? You'll find out in the next two videos."
   ]
  },
  {
   "cell_type": "code",
   "execution_count": null,
   "metadata": {},
   "outputs": [],
   "source": [
    "YouTubeVideo(\"A9lKV2QBTXs\")"
   ]
  },
  {
   "cell_type": "code",
   "execution_count": null,
   "metadata": {},
   "outputs": [],
   "source": [
    "YouTubeVideo(\"eLtLrb_Mfnk\")"
   ]
  },
  {
   "cell_type": "markdown",
   "metadata": {},
   "source": [
    "Consider the `top_movies` dataset loaded in the cell below. Use the `get_decade` function to\n",
    "create a new column in the table indicating each movie's decade of release.\n",
    "\n",
    "\n",
    "**Note:** `.astype(int)` ensures that an integer is returned instead of a float."
   ]
  },
  {
   "cell_type": "code",
   "execution_count": null,
   "metadata": {},
   "outputs": [],
   "source": [
    "# load the top_movies dataset\n",
    "top_movies =  Table.read_table('https://www.inferentialthinking.com/data/top_movies.csv')\n",
    "\n",
    "# define the get_decade function\n",
    "def get_decade(year):\n",
    "    \"\"\"\n",
    "    Round down a year to the first year of its decade\n",
    "    \"\"\"\n",
    "    return (np.round(year / 10 - 0.5) * 10).astype(int)\n",
    "\n",
    "# create a new \"Decade\" column:\n",
    "top_movies = ..."
   ]
  },
  {
   "cell_type": "markdown",
   "metadata": {},
   "source": [
    "<details>\n",
    "    <summary>Solution</summary>\n",
    "    top_movies = top_movies.with_column(\n",
    "        'Decade', top_movies.apply(get_decade, 'Year')\n",
    "    )\n",
    "</details>\n",
    "<br>"
   ]
  },
  {
   "cell_type": "markdown",
   "metadata": {},
   "source": [
    "<a id='section3'></a>\n",
    "## 3. Check for Understanding\n",
    "\n",
    "**A. Consider the following function definition:**\n",
    "\n",
    "```\n",
    "def round_sum(x, y, decimal_places=3)\n",
    "    sum_x_y = x + y\n",
    "    return np.round(sum_x_y, decimal_places)\n",
    "```\n",
    "\n",
    "**Will this function compile without error? If not, why?**\n",
    "\n",
    "*Hint: Copy this code into a new cell, and run it.*\n",
    "\n",
    "<details>\n",
    "    <summary>Solution</summary>\n",
    "    It won't run! A colon is missing at the end of the first line.\n",
    "</details>\n",
    "<br>\n",
    "\n",
    "\n",
    "**Consider the function below:**\n",
    "```\n",
    "def halve(x):\n",
    "    z = x / 2\n",
    "    return z\n",
    "```\n",
    "\n",
    "**B. What is the value of** `z` **after running the following lines of code**?\n",
    "```\n",
    "z = 20\n",
    "y = halve(z)\n",
    "```\n",
    "<details>\n",
    "    <summary>Solution</summary>\n",
    "    The second line of code applies the halve function to z, and then stores the result in the y variable.\n",
    "    Although z is defined in the halve function, it does not influence its value outside the function.\n",
    "    Therefore, z = 20.\n",
    "</details>\n",
    "<br>\n",
    "\n",
    "**C. Will the following code run without error? Why? If not, what value will be returned?**\n",
    "\n",
    "```\n",
    "halve(\"hello\")\n",
    "```\n",
    "\n",
    "<details>\n",
    "    <summary>Solution</summary>\n",
    "    It will not run! The halve function takes as input data types that can be divided by 2. Since arithmetic\n",
    "    operations cannot be applied to strings, this line of code will generate an error.\n",
    "</details>\n",
    "<br>\n",
    "\n",
    "**D. Will the following code run without error? Why? If not, what value will be returned?**\n",
    "\n",
    "```\n",
    "halve(make_array(1, 2, 3, 4, 5))\n",
    "```\n",
    "\n",
    "<details>\n",
    "    <summary>Solution</summary>\n",
    "    This function will run correctly, since arithmetic operations are iteratively applied to the\n",
    "    elements of an array. This line of code will return array of the following values: 0.5, 1, 1.5, 2, and 2.5.\n",
    "</details>\n",
    "<br>\n",
    "\n",
    "**E. True or false: The** `apply` **function's first argument is the input column.**\n",
    "\n",
    "<details>\n",
    "    <summary>Solution</summary>\n",
    "    False. The first argument of the apply method is the function what will be applied to the\n",
    "    column(s) of the table. The input column(s) is (are) provided by the subsequent argument(s).\n",
    "</details>\n",
    "<br>"
   ]
  }
 ],
 "metadata": {
  "kernelspec": {
   "display_name": "Python 3",
   "language": "python",
   "name": "python3"
  },
  "language_info": {
   "codemirror_mode": {
    "name": "ipython",
    "version": 3
   },
   "file_extension": ".py",
   "mimetype": "text/x-python",
   "name": "python",
   "nbconvert_exporter": "python",
   "pygments_lexer": "ipython3",
   "version": "3.8.2"
  }
 },
 "nbformat": 4,
 "nbformat_minor": 4
}
