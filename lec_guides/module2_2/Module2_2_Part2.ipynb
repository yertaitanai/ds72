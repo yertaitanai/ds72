{
 "cells": [
  {
   "cell_type": "code",
   "execution_count": null,
   "metadata": {},
   "outputs": [],
   "source": [
    "# Run cells by clicking on them and hitting CTRL + ENTER on your keyboard\n",
    "from IPython.display import YouTubeVideo\n",
    "from datascience import *\n",
    "import numpy as np\n",
    "%matplotlib inline"
   ]
  },
  {
   "cell_type": "markdown",
   "metadata": {},
   "source": [
    "# Module 2.2 Part 2: Groups\n",
    "\n",
    "This lecture guide introduces various ways to summarize a dataset's categorical variables.\n",
    "\n",
    "6 videos make up this notebook, for a total run time of 61:00.\n",
    "\n",
    "1. [Grouping One Attribute](#section1) *1 video, total runtime 14:38*\n",
    "2. [Cross-Classification](#section2) *1 videos, total runtime 11:07*\n",
    "3. [Pivot Tables](#section3) *1 video, total runtime 13:08*\n",
    "4. [Comparing Distributions](#section4) *1 video, total runtime 12:00*\n",
    "5. [Check for Understanding](#section5) *2 videos, total runtime 10:07*\n",
    "\n",
    "Textbook readings: [Chapter 8: Functions and Tables](https://www.inferentialthinking.com/chapters/08/Functions_and_Tables.html)"
   ]
  },
  {
   "cell_type": "markdown",
   "metadata": {},
   "source": [
    "<a id='section1'></a>\n",
    "## 1. Grouping One Attribute\n",
    "\n",
    "First, let's see how the `group` method can be used to summarize a table's categorical variables."
   ]
  },
  {
   "cell_type": "code",
   "execution_count": null,
   "metadata": {},
   "outputs": [],
   "source": [
    "YouTubeVideo(\"n0jAwei6zGY\")"
   ]
  },
  {
   "cell_type": "markdown",
   "metadata": {},
   "source": [
    "Using the `nba_salaries` table loaded in the cell below, compute the average salary of the players on each\n",
    "team during the 2015-2016 NBA season. Which team payed it's players the most, on average?"
   ]
  },
  {
   "cell_type": "code",
   "execution_count": null,
   "metadata": {},
   "outputs": [],
   "source": [
    "# load the nba dataset\n",
    "nba_salaries =  Table.read_table('https://www.inferentialthinking.com/data/nba_salaries.csv')\n",
    "\n",
    "# relabel the '15-'16 SALARY column to SALARY\n",
    "nba_salaries = ...\n",
    "\n",
    "# get average number of players in each position\n",
    "..."
   ]
  },
  {
   "cell_type": "markdown",
   "metadata": {},
   "source": [
    "<details>\n",
    "    <summary>Solution</summary>\n",
    "    <b>Code</b>: <br>\n",
    "    # relabel the '15-'16 SALARY column to SALARY <br>\n",
    "    nba_salaries = nba_salaries.relabeled(3, 'SALARY') <br>\n",
    "    # get average number of players in each position <br>\n",
    "    nba_salaries.select('TEAM', 'SALARY').group('TEAM', np.average).sort('SALARY average', descending = True) <br>\n",
    "    <br>\n",
    "    The Cleveland Caveliers were the team with the highest average salary in 2015-2016.\n",
    "</details>\n",
    "<br>"
   ]
  },
  {
   "cell_type": "markdown",
   "metadata": {},
   "source": [
    "<a id='section2'></a>\n",
    "## 2. Cross-Classification\n",
    "\n",
    "In the next video, you'll see how `group` can summarize the relationship between multiple categorical variables."
   ]
  },
  {
   "cell_type": "code",
   "execution_count": null,
   "metadata": {},
   "outputs": [],
   "source": [
    "YouTubeVideo(\"9NGa2MaDPxw\")"
   ]
  },
  {
   "cell_type": "markdown",
   "metadata": {},
   "source": [
    "<a id='section3'></a>\n",
    "\n",
    "## 3. Pivot Tables\n",
    "\n",
    "Pivot tables offer an easy way to cross-classify two categorical variables. In the following video, you'll learn how\n",
    "to use the `pivot` method."
   ]
  },
  {
   "cell_type": "code",
   "execution_count": null,
   "metadata": {},
   "outputs": [],
   "source": [
    "YouTubeVideo(\"JSgaMnExiCY\")"
   ]
  },
  {
   "cell_type": "markdown",
   "metadata": {},
   "source": [
    "The table loaded below contains information on the population of Califonian adults in 2014. The population\n",
    "is stratified by age, gender, educational attainment, and personal income. The *Population Count* variable\n",
    "describes the size of the strata. Create a pivot table summarizing the total population count for every possible\n",
    "combination of educational attainment and personal income."
   ]
  },
  {
   "cell_type": "code",
   "execution_count": null,
   "metadata": {},
   "outputs": [],
   "source": [
    "# prepare the data (cleaned for your convenience!)\n",
    "ca_full_table = Table.read_table('https://www.inferentialthinking.com/data/educ_inc.csv')\n",
    "ca_2014 = ca_full_table \\\n",
    "    .where('Year', are.equal_to('1/1/14 0:00')) \\\n",
    "    .where('Age', are.not_containing('00 to 17')) \\\n",
    "    .select('Age', 'Gender', 'Educational Attainment', 'Personal Income', 'Population Count')\n",
    "\n",
    "# create the pivot table\n",
    "..."
   ]
  },
  {
   "cell_type": "markdown",
   "metadata": {},
   "source": [
    "<details>\n",
    "    <summary>Solution</summary>\n",
    "    ca_2014.pivot('Educational Attainment', 'Personal Income', 'Population Count', sum) <br>\n",
    "    <br>\n",
    "    Note: The next video gives another, slightly different solution.\n",
    "</details>\n",
    "<br>"
   ]
  },
  {
   "cell_type": "markdown",
   "metadata": {},
   "source": [
    "<a id='section4'></a>\n",
    "\n",
    "## 4. Comparing Distributions\n",
    "\n",
    "In the following video, you'll see how pivot tables and bar charts can be used to stratify categorical variables' distributions."
   ]
  },
  {
   "cell_type": "code",
   "execution_count": null,
   "metadata": {},
   "outputs": [],
   "source": [
    "YouTubeVideo(\"YqN8OYt8Upw\")"
   ]
  },
  {
   "cell_type": "markdown",
   "metadata": {},
   "source": [
    "Use the `ca_2014` table from before to compare the distribution of personal income stratified by gender.\n",
    "Are the distributions similar? Can you identify any flaws this data?"
   ]
  },
  {
   "cell_type": "code",
   "execution_count": null,
   "metadata": {},
   "outputs": [],
   "source": [
    "# don't forget to convert counts to percents!\n",
    "def percent(x):\n",
    "    return np.round((x / sum(x)) * 100, 2)\n",
    "\n",
    "# compute the categorical distribution\n",
    "gender_income = ca_2014.pivot(...)\n",
    "distributions = gender_income.with_columns(\n",
    "    ...\n",
    ")\n",
    "\n",
    "# plot the distribution\n",
    "..."
   ]
  },
  {
   "cell_type": "markdown",
   "metadata": {},
   "source": [
    "<details>\n",
    "    <summary>Solution</summary>\n",
    "    <b>Code</b>: <br>\n",
    "    # compute the categorical distribution <br>\n",
    "    gender_income = ca_2014.pivot('Gender', 'Personal Income', 'Population Count', sum) <br>\n",
    "    distributions = gender_income.with_columns( <br>\n",
    "        'Female', percent(gender_income.column('Female')), <br>\n",
    "        'Male', percent(gender_income.column('Male')), <br>\n",
    "    ) <br>\n",
    "    <br>\n",
    "    # plot the distribution <br>\n",
    "    distributions.barh('Personal Income') <br>\n",
    "    <br>\n",
    "    <b>Interpretation</b>: <br>\n",
    "    Unfortunately, the personal income distributions are different. Women tend to have lower\n",
    "    paying jobs than men. Further, this data is flawed: only two genders are considered. This\n",
    "    data is biased because it fails to account for individuals who do not identify as male or\n",
    "    female. \n",
    "</details>\n",
    "<br>"
   ]
  },
  {
   "cell_type": "markdown",
   "metadata": {},
   "source": [
    "<a id='section5'></a>\n",
    "\n",
    "## 5. Check for Understanding\n",
    "\n",
    "**A. Attempt the question posed in the following video. Use the `group` method .**"
   ]
  },
  {
   "cell_type": "code",
   "execution_count": null,
   "metadata": {},
   "outputs": [],
   "source": [
    "YouTubeVideo(\"8MZW99WJcXs\")"
   ]
  },
  {
   "cell_type": "code",
   "execution_count": null,
   "metadata": {},
   "outputs": [],
   "source": [
    "# load the nba dataset\n",
    "nba_salaries =  Table.read_table('https://www.inferentialthinking.com/data/nba_salaries.csv')\n",
    "\n",
    "..."
   ]
  },
  {
   "cell_type": "markdown",
   "metadata": {},
   "source": [
    "**B. Can you find the solution to A using the `pivot` method? The following video will\n",
    "walk you through the solution if you get stuck.**"
   ]
  },
  {
   "cell_type": "code",
   "execution_count": null,
   "metadata": {},
   "outputs": [],
   "source": [
    "YouTubeVideo(\"e2Bs4SfIBUA\")"
   ]
  },
  {
   "cell_type": "code",
   "execution_count": null,
   "metadata": {},
   "outputs": [],
   "source": [
    "# load the nba dataset\n",
    "nba_salaries =  Table.read_table('https://www.inferentialthinking.com/data/nba_salaries.csv')\n",
    "\n",
    "..."
   ]
  }
 ],
 "metadata": {
  "kernelspec": {
   "display_name": "Python 3",
   "language": "python",
   "name": "python3"
  },
  "language_info": {
   "codemirror_mode": {
    "name": "ipython",
    "version": 3
   },
   "file_extension": ".py",
   "mimetype": "text/x-python",
   "name": "python",
   "nbconvert_exporter": "python",
   "pygments_lexer": "ipython3",
   "version": "3.8.2"
  }
 },
 "nbformat": 4,
 "nbformat_minor": 4
}
